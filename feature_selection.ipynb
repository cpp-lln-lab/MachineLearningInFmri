{
 "cells": [
  {
   "cell_type": "markdown",
   "metadata": {},
   "source": [
    "# Imports and Constants"
   ]
  },
  {
   "cell_type": "code",
   "execution_count": null,
   "metadata": {},
   "outputs": [],
   "source": [
    "import math\n",
    "import matplotlib.pyplot as plt\n",
    "import numpy as np\n",
    "import pandas as pd\n",
    "import numpy as np\n",
    "import sklearn\n",
    "from sklearn.pipeline import Pipeline\n",
    "from sklearn.model_selection import GridSearchCV\n",
    "from sklearn.feature_selection import SelectKBest, mutual_info_classif, f_classif, chi2\n",
    "\n",
    "from saving_outputs import *\n",
    "from load_data import *\n",
    "from masks import *\n",
    "from decoding import *\n",
    "from plots import *\n",
    "from utility import *\n",
    "from metrics import *\n",
    "\n",
    "\n",
    "SEED = 0\n",
    "random.seed(SEED)\n",
    "classes = ['Up', 'Down', 'Right', 'Left']\n",
    "nb_runs = 12\n",
    "length_one_modality = nb_runs * len(classes)\n",
    "subjects_ids = range(1, 24)\n",
    "n_subjects = len(subjects_ids)\n",
    "n_individual_perms = 1000\n",
    "labels = {'vis' : np.array(classes*nb_runs), 'aud' : np.array(classes*nb_runs)}\n",
    "labels_same = np.array(classes*nb_runs)\n",
    "\n",
    "within_modal_tasks_regions = [([\"vis\"], [\"V5_L\", \"V5_R\"]),\n",
    "                              ([\"vis\"], [\"PT_L\", \"PT_R\"]),\n",
    "                              ([\"aud\"], [\"V5_L\", \"V5_R\"]),\n",
    "                              ([\"aud\"], [\"PT_L\", \"PT_R\"])]\n",
    "\n",
    "cross_modal_tasks_regions = [([\"vis\", \"aud\"], [\"V5_L\", \"V5_R\"]),\n",
    "                             ([\"vis\", \"aud\"], [\"PT_L\", \"PT_R\"])]"
   ]
  },
  {
   "cell_type": "markdown",
   "metadata": {},
   "source": [
    "# Analyses"
   ]
  },
  {
   "cell_type": "code",
   "execution_count": null,
   "metadata": {
    "collapsed": false,
    "pycharm": {
     "name": "#%%\n"
    }
   },
   "outputs": [],
   "source": [
    "from_who = \"our\"   # 2 possibilities : \"mohameds\" or \"our\"\n",
    "voxel_size = \"3\" # 2 possibilities : \"2\" or \"3\"\n",
    "use_t_maps = True # use t-maps or beta-maps\n",
    "correction = \"_Tcorrected\" # a t-value has been used to create ROIs or no\n",
    "#radius_mask = \"7\"\n",
    "radius = 10\n",
    "\n",
    "#masks_folder=\"masks/\"+from_who+\"_masks\"+\"_\"+voxel_size+\"_radius=\"+radius_mask\n",
    "\n",
    "std_scaler = sklearn.preprocessing.StandardScaler()\n",
    "\n",
    "classifiers = {\n",
    "    'svm':sklearn.svm.SVC(C=1, random_state=SEED),\n",
    "    #'LR':sklearn.linear_model.LogisticRegression(random_state=SEED)\n",
    "    }\n",
    "classifier = classifiers[\"svm\"]\n",
    "\n",
    "param_grids = {\n",
    "    'svm':{\n",
    "        #'svm__C': [0.1, 1],\n",
    "        #'svm__gamma': [1, 0.1],\n",
    "        'svm__kernel': ['linear']},\n",
    "    'LR':{\n",
    "        'LR__C': [1]}}\n",
    "\n",
    "cv_scheme = list()\n",
    "for i in range(11):\n",
    "    full_idx = range(44)\n",
    "    idx_te = [i*4,i*4+1,i*4+2,i*4+3]\n",
    "    idx_tr = [x for x in full_idx if x not in idx_te]\n",
    "    tr_te_splits = [idx_tr, idx_te]\n",
    "    cv_scheme.append(tr_te_splits)\n"
   ]
  },
  {
   "cell_type": "code",
   "execution_count": null,
   "metadata": {
    "collapsed": false,
    "pycharm": {
     "name": "#%%\n"
    }
   },
   "outputs": [],
   "source": [
    "acc_group_combination = dict()\n",
    "\n",
    "maps_folder=\"brain_maps/\"+from_who+\"_maps\"+\"_\"+voxel_size\n",
    "masks_folder=\"masks/\"+from_who+\"_masks\"+\"_\"+voxel_size+\"_radius=\"+str(radius)+correction\n",
    "maps_masked, masks_exist = load_full_data(subjects_ids, len(classes), nb_runs, maps_folder, masks_folder, is_from_mohamed=(from_who==\"mohameds\"), use_t_maps=False)\n",
    "\n",
    "\n",
    "start_time = time.time()\n",
    "for kn in [3, 5]:\n",
    "    for sm in [15, 20, 30, 40, 50]:\n",
    "\n",
    "        #def k_selector(): return int(k*171)\n",
    "\n",
    "        models = dict()\n",
    "        #selector = SelectKBest(k=k_selector(voxel_amounts[voxel_size][i]), score_func=mut_info)\n",
    "        for name in classifiers:\n",
    "            pipeline = Pipeline([('scaler', std_scaler),\n",
    "                                #('selector', SelectKBest(k=k_selector(), score_func=mutual_info_classif)),\n",
    "                                (name, classifiers[name])])\n",
    "            GS = GridSearchCV(pipeline, param_grids[name], cv=cv_scheme, n_jobs=3)\n",
    "            models[name] = GS\n",
    "\n",
    "        decoder = Decoder(n_perm=n_individual_perms, models=models, n_classes=len(classes), n_splits=nb_runs, seed=SEED, sm_kn=kn, sm_samples=sm)\n",
    "        decoder.set_masks_exist(masks_exist)\n",
    "\n",
    "        # launch analyses\n",
    "        confusion_matrixes_within = decoder.within_modality_decoding(maps_masked, labels, subjects_ids, within_modal_tasks_regions)\n",
    "        confusion_matrixes_within = change_confusion_matrixes_org(confusion_matrixes_within[0], subjects_ids, models.keys())\n",
    "\n",
    "        confusion_matrixes_cross = decoder.cross_modality_decoding(maps_masked, labels, subjects_ids, cross_modal_tasks_regions)\n",
    "        confusion_matrixes_cross = change_confusion_matrixes_org(confusion_matrixes_cross[0], subjects_ids, models.keys())\n",
    "\n",
    "        # saving results\n",
    "        type_maps = \"_t_maps_\" if use_t_maps else \"_beta_maps_\"\n",
    "        out_directory = \"out/\"+from_who+type_maps+voxel_size+\"_radius=\"+str(radius)+\"_\"+str(classifier)+correction+\"_smotekn=\"+str(kn)+\"_samples=\"+str(sm)+\"/\"\n",
    "        create_directory(out_directory)\n",
    "\n",
    "        save_dicts(out_directory + \"confusion_matrixes_within.csv\", confusion_matrixes_within[\"svm\"],\n",
    "                list(confusion_matrixes_within[\"svm\"][0].keys()), subjects_ids)\n",
    "        acc_within = compute_metric(out_directory, subjects_ids, {'name' : 'accuracy', 'function':accuracy}, \"within\", masks_exist, len(classes), ret = True)\n",
    "\n",
    "        save_dicts(out_directory + \"confusion_matrixes_cross.csv\", confusion_matrixes_cross[\"svm\"],\n",
    "                list(confusion_matrixes_cross[\"svm\"][0].keys()), subjects_ids)\n",
    "\n",
    "        acc_cross = compute_metric(out_directory, subjects_ids, {'name' : 'cross', 'function':accuracy}, \"cross\", masks_exist, len(classes), ret = True)\n",
    "\n",
    "        within_modality_group_results = average_dicos(acc_within)\n",
    "        save_dicts(out_directory + \"group_scores_within.csv\", [within_modality_group_results],\n",
    "                list(within_modality_group_results.keys()), [0])\n",
    "        acc_group_combination = within_modality_group_results\n",
    "\n",
    "        cross_modality_group_results = average_dicos(acc_cross)\n",
    "        save_dicts(out_directory + \"group_scores_cross.csv\", [cross_modality_group_results],\n",
    "                list(cross_modality_group_results.keys()), [0])\n",
    "        acc_group_combination.update(cross_modality_group_results)\n",
    "\n",
    "\n",
    "        duration = time.time()-start_time\n",
    "        print(\"_smotekn=\"+str(kn)+\"_samples=\"+str(sm)+\" % done in \"+str(duration)+\" seconds\")"
   ]
  },
  {
   "cell_type": "markdown",
   "metadata": {},
   "source": [
    "# Plot score and score variance for different k's\n",
    "### (voxel_size and radius kept constant)"
   ]
  },
  {
   "cell_type": "code",
   "execution_count": null,
   "metadata": {},
   "outputs": [],
   "source": [
    "percentages = [0.2,0.4,0.6,0.8]\n",
    "\n",
    "type_maps = \"_t_maps_\" if use_t_maps else \"_beta_maps_\"\n",
    "out_folders = list()\n",
    "\n",
    "kns = [2,5]\n",
    "sms = [15,30,50]\n",
    "\n",
    "for kn in kns:\n",
    "    for sm in sms:\n",
    "        out_folders.append(\"out/\"+from_who+type_maps+voxel_size+\"_radius=\"+str(radius)+\"_\"+str(classifier)+correction+\"_smotekn=\"+str(kn)+\"_samples=\"+str(sm)+\"/\")\n",
    "\n",
    "#out_folders.append(\"out/our_t_maps_3_radius=10_SVC(C=1, random_state=0)_Tcorrectedselecting_100_f_classif/\")\n",
    "#percentages.append(1)\n",
    "                     \n",
    "# for folder in out_folders:\n",
    "#     #acc_within = compute_metric(folder, subjects_ids, {'name' : 'accuracy', 'function':accuracy}, \"within\", masks_exist, len(classes), ret = True)\n",
    "#     #acc_cross = compute_metric(folder, subjects_ids, {'name' : 'accuracy', 'function':accuracy}, \"cross\", masks_exist, len(classes), ret = True)\n",
    "\n",
    "#     compute_accuracy_variance(folder, \"within\")\n",
    "#     compute_accuracy_variance(folder, \"cross\")\n",
    "#     #plotter = Plotter(\"plots/\"+folder[4:], subjects_ids)\n",
    "#     #cfm_df = retrieve_cv_matrixes(folder)\n",
    "#     #group_cfm = compute_group_confusion_matrix(cfm_df, subjects_ids)\n",
    "#     #plotter.plot_group_confusion_matrix(group_cfm, classes) \n",
    "\n",
    "\n",
    "    \n",
    "labels = list()\n",
    "for kn in kns:\n",
    "    for sm in sms:\n",
    "        labels.append(\"k=\"+str(kn)+\" s=\"+str(sm))\n",
    "\n",
    "out_folders.append(\"out/our_t_maps_3_radius=10_SVC(C=1, random_state=0)_Tcorrectedselecting_100_f_classif/\")\n",
    "labels.append(\"no smote\")\n",
    "\n",
    "plotter = Plotter(\"plots/comparing_SMOTE_\"+type_maps+\"_\".join(labels), subjects_ids)\n",
    "plotter.plot_tests_scores_from_different_folders(out_folders, labels, \"SMOTE\", \"SMOTE parameters\")\n",
    "plotter.plot_accuracy_var_from_different_folders(out_folders, labels, \"SMOTE\", \"SMOTE parameters\")"
   ]
  },
  {
   "cell_type": "code",
   "execution_count": null,
   "metadata": {
    "collapsed": false,
    "pycharm": {
     "name": "#%%\n"
    }
   },
   "outputs": [],
   "source": [
    "subjects_ids = range(1,24)\n",
    "out_folders = [\n",
    "                \"out/our_t_maps_3_radius=10_SVC(C=1, random_state=0)_Tcorrectedselecting_20_f_classif/\",\n",
    "                \"out/our_t_maps_3_radius=10_SVC(C=1, random_state=0)_Tcorrectedselecting_20_mutual_info/\",\n",
    "                \"out/our_t_maps_3_radius=10_SVC(C=1, random_state=0)_Tcorrectedselecting_40_f_classif/\",\n",
    "                \"out/our_t_maps_3_radius=10_SVC(C=1, random_state=0)_Tcorrectedselecting_40_mutual_info/\",\n",
    "                \"out/our_t_maps_3_radius=10_SVC(C=1, random_state=0)_Tcorrectedselecting_60_f_classif/\",\n",
    "                \"out/our_t_maps_3_radius=10_SVC(C=1, random_state=0)_Tcorrectedselecting_60_mutual_info/\",\n",
    "                \"out/our_t_maps_3_radius=10_SVC(C=1, random_state=0)_Tcorrectedselecting_80_f_classif/\",\n",
    "                \"out/our_t_maps_3_radius=10_SVC(C=1, random_state=0)_Tcorrectedselecting_80_mutual_info/\",\n",
    "               ]\n",
    "classifiers_names = [\"20% f_classif\", \"20% mutual_info\",  \"40% f_classif\", \"40% mutual_info\", \"60% f_classif\", \"60% mutual_info\", \"80% f_classif\", \"80% mutual_info\"]\n",
    "plotter = Plotter(\"plots/comparing_classifiers_mut_info_f_classif_\"+\"_\".join(classifiers_names), subjects_ids)\n",
    "plotter.plot_tests_scores_from_different_folders(out_folders, classifiers_names, \"feature selection\", \"SelectKBest parameters\")"
   ]
  },
  {
   "cell_type": "markdown",
   "metadata": {},
   "source": [
    "## Examine accuracy distrib"
   ]
  },
  {
   "cell_type": "code",
   "execution_count": null,
   "metadata": {},
   "outputs": [],
   "source": [
    "out_folder = \"out/our_t_maps_3_radius=10_SVC(C=1, random_state=0)_Tcorrectedselecting_100_mutual_info/\"\n",
    "\n",
    "acc = retrieve_cv_metric(out_folder, \"accuracy\")\n",
    "for analysis in acc:\n",
    "    #plt.ylim(0.09, 0.7)\n",
    "    plt.hist(acc[analysis], bins = 23)\n",
    "    plt.show()\n",
    "    plt.close()"
   ]
  }
 ],
 "metadata": {
  "interpreter": {
   "hash": "9650cb4e16cdd4a8e8e2d128bf38d875813998db22a3c986335f89e0cb4d7bb2"
  },
  "kernelspec": {
   "display_name": "Python 3.8.6 64-bit",
   "language": "python",
   "name": "python3"
  },
  "language_info": {
   "codemirror_mode": {
    "name": "ipython",
    "version": 3
   },
   "file_extension": ".py",
   "mimetype": "text/x-python",
   "name": "python",
   "nbconvert_exporter": "python",
   "pygments_lexer": "ipython3",
   "version": "3.8.6"
  },
  "orig_nbformat": 4
 },
 "nbformat": 4,
 "nbformat_minor": 2
}
