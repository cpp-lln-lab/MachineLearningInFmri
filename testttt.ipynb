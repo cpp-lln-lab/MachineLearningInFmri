{
 "cells": [
  {
   "cell_type": "code",
   "execution_count": 8,
   "metadata": {
    "collapsed": true,
    "pycharm": {
     "name": "#%%\n"
    }
   },
   "outputs": [],
   "source": [
    "from nilearn.image import load_img, get_data\n",
    "import numpy as np\n",
    "\n",
    "regions = [\"V5_L\",\"V5_R\",\"PT_L\",\"PT_R\"]\n",
    "subs = [0]*23\n",
    "sizes = [dict((region,0) for region in regions) for sub in subs]\n",
    "values = dict()\n",
    "\n",
    "for i in range(1,24):\n",
    "    for region in regions :\n",
    "        id = str(i)\n",
    "        if(i<10):\n",
    "            id = \"0\"+id\n",
    "        image = get_data(\"masks/our_masks_2_radius=5/\"+region+\"_sub_\"+id+\".nii\")\n",
    "        #image = get_data(\"../Data/CrossMot_raw/code/visualLocalizer/\"+region+\"_sub_\"+id+\".nii\")\n",
    "        somme = np.sum(image)\n",
    "        sizes[i-1][region] = somme\n",
    "        if somme not in values :\n",
    "            values[somme] = 1\n",
    "        else :\n",
    "            values[somme] += 1\n",
    "\n",
    "        del image"
   ]
  },
  {
   "cell_type": "code",
   "execution_count": 4,
   "outputs": [],
   "source": [
    "from sklearn.model_selection import GridSearchCV\n",
    "from load_data import *\n",
    "from sklearn.svm import SVC\n",
    "from sklearn.neighbors import KNeighborsClassifier\n",
    "import pandas as pd\n",
    "import pandas as pd\n",
    "import numpy as np\n",
    "\n",
    "classes = ['Up', 'Down', 'Right', 'Left']\n",
    "nb_runs = 12\n",
    "labels = np.array(classes*nb_runs)\n",
    "\n",
    "maps_masked, mask_exist = load_full_data([1], 4, 12, maps_folder=\"brain_maps/our_maps_3\", masks_folder=\"masks/our_masks_3_radius=10\",is_from_mohamed=False, use_t_maps=True)\n",
    "\n",
    "df = maps_masked[0]['vis'][0]['PT_R']\n",
    "test_index = range(4)\n",
    "train_index = range(4,48)\n",
    "X_train, X_test = df[train_index], df[test_index]\n",
    "y_train, y_test = labels[train_index], labels[test_index]\n",
    "\n",
    "params={'C':[0.01,0.1,1,10,100],\n",
    "'kernel':[\"linear\"]}\n",
    "params={}\n",
    "gs = GridSearchCV(KNeighborsClassifier(weights=\"distance\"), params, cv = 11)\n",
    "gs.fit(X_train, y_train)\n",
    "val_results = gs.cv_results_\n",
    "val_params = [str(elem).replace(\" \",\"\").replace(\":\",\"=\").replace(\"\\'\",\"\").replace(\"{\",\"\").replace(\"}\",\"\") for elem in val_results['params']]\n",
    "l = [str(i) for i in range(11)]\n",
    "keys = ['split'+i+'_test_score' for i in l]\n",
    "tab = [val_results[key] for key in keys]\n",
    "means = np.mean(tab, axis=0)\n",
    "val_scores = dict(zip(val_params, means.tolist()))"
   ],
   "metadata": {
    "collapsed": false,
    "pycharm": {
     "name": "#%%\n"
    }
   }
  },
  {
   "cell_type": "code",
   "execution_count": null,
   "outputs": [],
   "source": [
    "from load_data import *\n",
    "from utility import *\n",
    "import sklearn\n",
    "from plots import *\n",
    "\n",
    "from sklearn.ensemble import AdaBoostClassifier\n",
    "type_maps = \"_t_maps_\"\n",
    "subjects_ids=range(1,6)\n",
    "classifiers = {\n",
    "    'svm':sklearn.svm.SVC(random_state=0),\n",
    "    #'Ada':AdaBoostClassifier(random_state=SEED),\n",
    "}\n",
    "out_directory = \"out/\"+\"our\"+type_maps\n",
    "for name in classifiers:\n",
    "    out_dir = out_directory+str(classifiers[name])+\"_\"+\"3_radius=10/\"\n",
    "    cv_group_df = retrieve_cv_metric(out_dir, \"group_scores\")\n",
    "    cv_df = retrieve_cv_metric(out_dir, \"accuracy\")\n",
    "    cfm_df = retrieve_cv_matrixes(out_dir)\n",
    "    val_scores_df = retrieve_val_scores(out_dir)\n",
    "    pvals = retrieve_pvals(out_dir, default_keys=cv_df.columns)\n",
    "    plt_dir = \"plots/\"+\"our\"+type_maps+str(classifiers[name])+\"_\"+\"3_radius=10/\"\n",
    "    create_directory(plt_dir)\n",
    "    plotter = Plotter(plt_dir, subjects_ids)\n",
    "    plotter.plot_cv_score_with_points(cv_df, pvals, chance_level = True)\n"
   ],
   "metadata": {
    "collapsed": false,
    "pycharm": {
     "name": "#%%\n",
     "is_executing": true
    }
   }
  },
  {
   "cell_type": "code",
   "execution_count": 75,
   "outputs": [],
   "source": [
    "score_per_analysis = dict()\n",
    "group_by = \"C\" # what the x-axis of the future plot should be\n",
    "group_by_values = [0.001,0.01,0.1,1,10]\n",
    "str_group_by_values = [str(val) for val in group_by_values]\n",
    "#TODO checker avec masks_exist\n",
    "counter = dict()\n",
    "compte = 0\n",
    "\n",
    "for analysis in val_scores_df:\n",
    "    score_per_analysis[analysis] = dict()\n",
    "    for i, subj in enumerate(subjects_ids) :\n",
    "        combs = val_scores_df[analysis][subj].replace(\" \",\"\").replace(\"{\",\"\").replace(\"}\",\"\").replace(\"\\'\",\"\").split(\",\")\n",
    "        for comb in combs :\n",
    "            index=0\n",
    "            new_key = \"\"\n",
    "            tmp = comb.split(\":\")\n",
    "            score=float(tmp[1])\n",
    "            indiv_params = tmp[0].split(\"-\")\n",
    "            for param in indiv_params :\n",
    "                key = param.split(\"__\")[1]\n",
    "                tmp_ = param.split(\"=\")\n",
    "                name = tmp_[0].split(\"__\")[1]\n",
    "                value = tmp_[1]\n",
    "                if not name == group_by :\n",
    "                    new_key += \" - \" + key\n",
    "                else :\n",
    "                    index = str_group_by_values.index(value)\n",
    "                #print(name);print(value)\n",
    "            new_key = new_key.split(\" - \",1)[1]\n",
    "            #print(new_key)\n",
    "            compte += 1\n",
    "\n",
    "            if new_key in score_per_analysis[analysis] :\n",
    "                score_per_analysis[analysis][new_key][i,index] = score\n",
    "            else :\n",
    "                score_per_analysis[analysis][new_key] = np.zeros((len(subjects_ids),len(group_by_values)))\n",
    "                score_per_analysis[analysis][new_key][i,0] = score\n",
    "\n",
    "\n",
    "\n",
    "for analysis in score_per_analysis :\n",
    "    for key in score_per_analysis[analysis] :\n",
    "        score_per_analysis[analysis][key] = np.mean(score_per_analysis[analysis][key], axis=0)\n"
   ],
   "metadata": {
    "collapsed": false,
    "pycharm": {
     "name": "#%%\n"
    }
   }
  },
  {
   "cell_type": "code",
   "execution_count": 2,
   "outputs": [],
   "source": [
    "from load_data import *\n",
    "import sklearn\n",
    "\n",
    "type_maps = \"_t_maps_\"\n",
    "subjects_ids=range(1,6)\n",
    "classifiers = {\n",
    "    'svm':sklearn.svm.SVC(random_state=0),\n",
    "    #'Ada':AdaBoostClassifier(random_state=SEED),\n",
    "}\n",
    "out_directory = \"out/\"+\"our\"+type_maps\n",
    "for name in classifiers:\n",
    "    out_dir = out_directory+str(classifiers[name])+\"_\"+\"3_radius=10/\"\n",
    "    masks_exist = retrieve_masks_exist(out_dir)"
   ],
   "metadata": {
    "collapsed": false,
    "pycharm": {
     "name": "#%%\n"
    }
   }
  }
 ],
 "metadata": {
  "kernelspec": {
   "display_name": "Python 3",
   "language": "python",
   "name": "python3"
  },
  "language_info": {
   "codemirror_mode": {
    "name": "ipython",
    "version": 2
   },
   "file_extension": ".py",
   "mimetype": "text/x-python",
   "name": "python",
   "nbconvert_exporter": "python",
   "pygments_lexer": "ipython2",
   "version": "2.7.6"
  }
 },
 "nbformat": 4,
 "nbformat_minor": 0
}