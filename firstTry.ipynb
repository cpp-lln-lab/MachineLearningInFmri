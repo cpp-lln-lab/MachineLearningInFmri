{
 "cells": [
  {
   "cell_type": "markdown",
   "metadata": {},
   "source": [
    "# Imports and Constants"
   ]
  },
  {
   "cell_type": "code",
   "execution_count": null,
   "metadata": {
    "pycharm": {
     "is_executing": true
    }
   },
   "outputs": [],
   "source": [
    "import numpy as np\n",
    "import sklearn\n",
    "import random\n",
    "\n",
    "from loadData import get_maps,get_masks\n",
    "from masks import apply_mask_to_maps, get_part_of_maps\n",
    "from machineLearning import Decoder\n",
    "\n",
    "SEED = 0\n",
    "random.seed(SEED)\n",
    "n_subjects = 2\n",
    "classes = ['Up','Down','Right','Left']\n",
    "nb_runs = 12\n",
    "length = nb_runs*len(classes)"
   ]
  },
  {
   "cell_type": "markdown",
   "metadata": {},
   "source": [
    "# Loading data"
   ]
  },
  {
   "cell_type": "code",
   "execution_count": 2,
   "outputs": [],
   "source": [
    "# create labels\n",
    "class_labels = [None]*(2*length)\n",
    "\n",
    "for i in range(length*2) :\n",
    "    class_labels[i]=classes[(i // nb_runs) % len(classes)]\n",
    "labels = dict()\n",
    "labels[\"vis\"] = np.array(class_labels[:length])\n",
    "labels[\"aud\"]= np.array(class_labels[length:])"
   ],
   "metadata": {
    "collapsed": false,
    "pycharm": {
     "name": "#%%\n"
    }
   }
  },
  {
   "cell_type": "code",
   "execution_count": 3,
   "metadata": {},
   "outputs": [],
   "source": [
    "t_maps,beta_maps = get_maps(n_subjects)\n",
    "masks,masks_full = get_masks(n_subjects,plot=False)\n",
    "maps = apply_mask_to_maps(t_maps,masks)\n",
    "maps_masked = dict()\n",
    "maps_masked[\"vis\"] = get_part_of_maps(maps,0,length) # maps acquired for the vision experiment\n",
    "maps_masked[\"aud\"] = get_part_of_maps(maps,length,2*length) # maps acquired for the audition experiment"
   ]
  },
  {
   "cell_type": "markdown",
   "metadata": {},
   "source": [
    "# Motion decoding"
   ]
  },
  {
   "cell_type": "code",
   "execution_count": 10,
   "outputs": [],
   "source": [
    "classifier = sklearn.svm.SVC(C=1,random_state=SEED) #default parameters, there is clearly improvements to be made here\n",
    "decoder = Decoder(n_perm=1000,model=classifier,n_classes=len(classes),n_splits=nb_runs,seed=SEED)\n",
    "cv_scores = dict()\n",
    "p_values = dict()"
   ],
   "metadata": {
    "collapsed": false,
    "pycharm": {
     "name": "#%%\n"
    }
   }
  },
  {
   "cell_type": "markdown",
   "metadata": {},
   "source": [
    "#### Visual motion using V5"
   ]
  },
  {
   "cell_type": "code",
   "execution_count": 11,
   "metadata": {},
   "outputs": [],
   "source": [
    "tasks = [\"vis\"]\n",
    "regions = [\"V5_R\",\"V5_L\"]\n",
    "cv_sc, p_val = decoder.classify_tasks_regions(maps_masked,labels,tasks,regions)\n",
    "cv_scores.update(cv_sc)\n",
    "p_values.update(p_val)"
   ]
  },
  {
   "cell_type": "markdown",
   "metadata": {},
   "source": [
    "#### Auditory motion using PT"
   ]
  },
  {
   "cell_type": "code",
   "execution_count": 12,
   "metadata": {
    "collapsed": true
   },
   "outputs": [],
   "source": [
    "tasks = [\"aud\"]\n",
    "regions = [\"PT_R\",\"PT_L\"]\n",
    "cv_sc, p_val = decoder.classify_tasks_regions(maps_masked,labels,tasks,regions)\n",
    "cv_scores.update(cv_sc)\n",
    "p_values.update(p_val)"
   ]
  },
  {
   "cell_type": "markdown",
   "metadata": {},
   "source": [
    "#### Using V5 to predict auditory direction"
   ]
  },
  {
   "cell_type": "code",
   "execution_count": 13,
   "metadata": {},
   "outputs": [],
   "source": [
    "tasks = [\"aud\"]\n",
    "regions = [\"V5_R\",\"V5_L\"]\n",
    "cv_sc, p_val = decoder.classify_tasks_regions(maps_masked,labels,tasks,regions)\n",
    "cv_scores.update(cv_sc)\n",
    "p_values.update(p_val)"
   ]
  },
  {
   "cell_type": "markdown",
   "metadata": {},
   "source": [
    "### Cross modal decoding using V5"
   ]
  },
  {
   "cell_type": "code",
   "execution_count": null,
   "metadata": {
    "pycharm": {
     "name": "#%%\n"
    }
   },
   "outputs": [],
   "source": [
    "# TRAINING ON VISION, TESTING ON AUDITION, and then reverse\n",
    "tasks=[\"vis\",\"aud\"]\n",
    "regions=[\"V5_R\",\"V5_L\"]\n",
    "scores_cross_mod= decoder.cross_modal_decoding(maps_masked,labels,tasks,regions)"
   ]
  }
 ],
 "metadata": {
  "celltoolbar": "Format de la Cellule Texte Brut",
  "kernelspec": {
   "display_name": "Python 3",
   "language": "python",
   "name": "python3"
  },
  "language_info": {
   "codemirror_mode": {
    "name": "ipython",
    "version": 3
   },
   "file_extension": ".py",
   "mimetype": "text/x-python",
   "name": "python",
   "nbconvert_exporter": "python",
   "pygments_lexer": "ipython3",
   "version": "3.8.3"
  }
 },
 "nbformat": 4,
 "nbformat_minor": 4
}