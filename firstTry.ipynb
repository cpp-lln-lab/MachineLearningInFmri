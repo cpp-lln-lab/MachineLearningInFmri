{
 "cells": [
  {
   "cell_type": "markdown",
   "metadata": {},
   "source": [
    "# Imports"
   ]
  },
  {
   "cell_type": "code",
   "execution_count": 1,
   "metadata": {},
   "outputs": [
    {
     "name": "stderr",
     "output_type": "stream",
     "text": [
      "C:\\Users\\nicol\\miniconda3\\lib\\site-packages\\nilearn\\datasets\\__init__.py:93: FutureWarning: Fetchers from the nilearn.datasets module will be updated in version 0.9 to return python strings instead of bytes and Pandas dataframes instead of Numpy arrays.\n",
      "  warn(\"Fetchers from the nilearn.datasets module will be \"\n"
     ]
    }
   ],
   "source": [
    "import numpy as np\n",
    "import pandas as pd\n",
    "import matplotlib.pyplot as plt\n",
    "import sklearn\n",
    "from nilearn.masking import apply_mask,intersect_masks\n",
    "from nilearn.plotting import plot_glass_brain\n",
    "from nilearn.image import index_img"
   ]
  },
  {
   "cell_type": "markdown",
   "metadata": {},
   "source": [
    "# Loading data"
   ]
  },
  {
   "cell_type": "code",
   "execution_count": 2,
   "metadata": {},
   "outputs": [
    {
     "ename": "NameError",
     "evalue": "name 'image' is not defined",
     "output_type": "error",
     "traceback": [
      "\u001b[1;31m---------------------------------------------------------------------------\u001b[0m",
      "\u001b[1;31mNameError\u001b[0m                                 Traceback (most recent call last)",
      "\u001b[1;32m<ipython-input-2-9b24140f4795>\u001b[0m in \u001b[0;36m<module>\u001b[1;34m\u001b[0m\n\u001b[0;32m      9\u001b[0m \u001b[1;33m\u001b[0m\u001b[0m\n\u001b[0;32m     10\u001b[0m \u001b[1;32mfor\u001b[0m \u001b[0mi\u001b[0m \u001b[1;32min\u001b[0m \u001b[0mrange\u001b[0m\u001b[1;33m(\u001b[0m\u001b[0mnb_subjects\u001b[0m\u001b[1;33m)\u001b[0m\u001b[1;33m:\u001b[0m\u001b[1;33m\u001b[0m\u001b[1;33m\u001b[0m\u001b[0m\n\u001b[1;32m---> 11\u001b[1;33m     \u001b[0mt_maps\u001b[0m\u001b[1;33m[\u001b[0m\u001b[0mi\u001b[0m\u001b[1;33m]\u001b[0m\u001b[1;33m=\u001b[0m\u001b[0mimage\u001b[0m\u001b[1;33m.\u001b[0m\u001b[0mload_img\u001b[0m\u001b[1;33m(\u001b[0m\u001b[1;34m\"brain_maps/sub\"\u001b[0m\u001b[1;33m+\u001b[0m\u001b[0mstr\u001b[0m\u001b[1;33m(\u001b[0m\u001b[0mi\u001b[0m\u001b[1;33m+\u001b[0m\u001b[1;36m1\u001b[0m\u001b[1;33m)\u001b[0m\u001b[1;33m+\u001b[0m\u001b[1;34m\"_4D_t_maps_0.nii\"\u001b[0m\u001b[1;33m)\u001b[0m\u001b[1;33m\u001b[0m\u001b[1;33m\u001b[0m\u001b[0m\n\u001b[0m\u001b[0;32m     12\u001b[0m     \u001b[0mbeta_maps\u001b[0m\u001b[1;33m[\u001b[0m\u001b[0mi\u001b[0m\u001b[1;33m]\u001b[0m\u001b[1;33m=\u001b[0m\u001b[0mimage\u001b[0m\u001b[1;33m.\u001b[0m\u001b[0mload_img\u001b[0m\u001b[1;33m(\u001b[0m\u001b[1;34m\"brain_maps/sub\"\u001b[0m\u001b[1;33m+\u001b[0m\u001b[0mstr\u001b[0m\u001b[1;33m(\u001b[0m\u001b[0mi\u001b[0m\u001b[1;33m+\u001b[0m\u001b[1;36m1\u001b[0m\u001b[1;33m)\u001b[0m\u001b[1;33m+\u001b[0m\u001b[1;34m\"_4D_beta_0.nii\"\u001b[0m\u001b[1;33m)\u001b[0m\u001b[1;33m\u001b[0m\u001b[1;33m\u001b[0m\u001b[0m\n\u001b[0;32m     13\u001b[0m     \u001b[0mmasks\u001b[0m\u001b[1;33m[\u001b[0m\u001b[0mi\u001b[0m\u001b[1;33m]\u001b[0m\u001b[1;33m=\u001b[0m\u001b[0mdict\u001b[0m\u001b[1;33m(\u001b[0m\u001b[1;33m)\u001b[0m\u001b[1;33m\u001b[0m\u001b[1;33m\u001b[0m\u001b[0m\n",
      "\u001b[1;31mNameError\u001b[0m: name 'image' is not defined"
     ]
    }
   ],
   "source": [
    "nb_subjects = 2\n",
    "classes = ['vis_U','vis_D','vis_R','vis_L','aud_U','aud_D','aud_R','aud_L']\n",
    "masks_names = ['vis_R','vis_L','aud_R','aud_L']\n",
    "\n",
    "t_maps = [None]*nb_subjects\n",
    "beta_maps = [None]*nb_subjects\n",
    "X_all = [None]*nb_subjects\n",
    "masks = [None]*nb_subjects\n",
    "\n",
    "for i in range(nb_subjects): \n",
    "    t_maps[i]=image.load_img(\"brain_maps/sub\"+str(i+1)+\"_4D_t_maps_0.nii\")\n",
    "    beta_maps[i]=image.load_img(\"brain_maps/sub\"+str(i+1)+\"_4D_beta_0.nii\")\n",
    "    masks[i]=dict()\n",
    "    for name in masks_names:\n",
    "        masks[i][name]=image.load_img(\"masks/ROI_sub\"+str(i+1)+\"_\"+name+\".nii\")\n"
   ]
  },
  {
   "cell_type": "markdown",
   "metadata": {},
   "source": [
    "# Motion decoding"
   ]
  },
  {
   "cell_type": "code",
   "execution_count": null,
   "metadata": {},
   "outputs": [],
   "source": [
    "# 1. create and apply apply masks \n",
    "mask_vis=[None]*nb_subjects\n",
    "mask_aud=[None]*nb_subjects\n",
    "length = int(t_maps[0].shape[3]/2)\n",
    "t_maps_masked_vis=[None]*nb_subjects\n",
    "t_maps_masked_aud=[None]*nb_subjects\n",
    "\n",
    "\n",
    "for i in range(nb_subjects):\n",
    "    mask_vis[i] = intersect_masks([masks[i]['vis_R'],masks[i]['vis_L']],threshold=0,connected = False)\n",
    "    mask_aud[i] = intersect_masks([masks[i]['aud_R'],masks[i]['aud_L']],threshold=0,connected = False)\n",
    "    plot_glass_brain(mask_vis[i],title = \"vision - subject \"+str(i+1))\n",
    "    plot_glass_brain(mask_aud[i],title = \"audition - subject \"+str(i+1))\n",
    "    \n",
    "    t_maps_masked_vis[i] = apply_mask(index_img(t_maps[i],range(length)),mask_vis[i])\n",
    "    t_maps_masked_aud[i] = apply_mask(index_img(t_maps[i],range(length)),mask_aud[i])\n",
    "\n"
   ]
  },
  {
   "cell_type": "code",
   "execution_count": null,
   "metadata": {},
   "outputs": [],
   "source": [
    "# 2. create labels\n",
    "class_labels = [None]*(length*2)\n",
    "nb_runs = 12\n",
    "\n",
    "for i in range(length*2) : \n",
    "    class_labels[i]=classes[i // nb_runs]\n",
    "    \n",
    "labels_vis = np.array(class_labels[:length])\n",
    "labels_aud = np.array(class_labels[length:])"
   ]
  },
  {
   "cell_type": "markdown",
   "metadata": {},
   "source": [
    "#### Visual motion "
   ]
  },
  {
   "cell_type": "code",
   "execution_count": 45,
   "metadata": {},
   "outputs": [
    {
     "name": "stdout",
     "output_type": "stream",
     "text": [
      "vision - cv score for subject 1 is 0.125\n",
      "vision - cv score for subject 2 is 0.08333333333333333\n"
     ]
    }
   ],
   "source": [
    "classifier_vis = sklearn.svm.SVC() #default parameters, there is clearly improvements to be made here\n",
    "n_splits = 6\n",
    "kf = sklearn.model_selection.KFold(n_splits=n_splits,shuffle=True,random_state=1) \n",
    "scores=[]\n",
    "\n",
    "for i in range(nb_subjects) :\n",
    "    acc=0\n",
    "    for train_index, test_index in kf.split(t_maps_masked_vis[i]):\n",
    "        X_train,X_test = t_maps_masked_vis[i][train_index],t_maps_masked_vis[i][test_index]\n",
    "        y_train,y_test = labels_vis[train_index],labels_vis[test_index]\n",
    "        \n",
    "        classifier_vis.fit(X_train,y_train)\n",
    "        score = classifier_vis.score(X_test,y_test)\n",
    "        acc += score\n",
    "    scores.append(acc/n_splits)\n",
    "        \n",
    "for i in range(nb_subjects) :\n",
    "    print(\"vision - cv score for subject \"+str(i+1)+\" is \"+str(scores[i]))"
   ]
  },
  {
   "cell_type": "markdown",
   "metadata": {},
   "source": [
    "#### Auditory motion "
   ]
  },
  {
   "cell_type": "code",
   "execution_count": 46,
   "metadata": {},
   "outputs": [
    {
     "name": "stdout",
     "output_type": "stream",
     "text": [
      "audition - cv score for subject 1 is 0.10416666666666667\n",
      "audition - cv score for subject 2 is 0.14583333333333334\n"
     ]
    }
   ],
   "source": [
    "classifier_aud = sklearn.svm.SVC() #default parameters, there is clearly improvements to be made here\n",
    "n_splits = 6\n",
    "kf = sklearn.model_selection.KFold(n_splits=n_splits,shuffle=True,random_state=1) \n",
    "scores=[]\n",
    "\n",
    "for i in range(nb_subjects) :\n",
    "    acc=0\n",
    "    for train_index, test_index in kf.split(t_maps_masked_aud[i]):\n",
    "        X_train,X_test = t_maps_masked_aud[i][train_index],t_maps_masked_aud[i][test_index]\n",
    "        y_train,y_test = labels_aud[train_index],labels_aud[test_index]\n",
    "        \n",
    "        classifier_aud.fit(X_train,y_train)\n",
    "        score = classifier_aud.score(X_test,y_test)\n",
    "        acc += score\n",
    "    scores.append(acc/n_splits)\n",
    "        \n",
    "for i in range(nb_subjects) :\n",
    "    print(\"audition - cv score for subject \"+str(i+1)+\" is \"+str(scores[i]))"
   ]
  }
 ],
 "metadata": {
  "celltoolbar": "Format de la Cellule Texte Brut",
  "kernelspec": {
   "display_name": "Python 3",
   "language": "python",
   "name": "python3"
  },
  "language_info": {
   "codemirror_mode": {
    "name": "ipython",
    "version": 3
   },
   "file_extension": ".py",
   "mimetype": "text/x-python",
   "name": "python",
   "nbconvert_exporter": "python",
   "pygments_lexer": "ipython3",
   "version": "3.8.3"
  }
 },
 "nbformat": 4,
 "nbformat_minor": 4
}
