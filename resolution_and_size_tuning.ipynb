{
 "cells": [
  {
   "cell_type": "markdown",
   "metadata": {},
   "source": [
    "# Imports and Constants"
   ]
  },
  {
   "cell_type": "code",
   "execution_count": null,
   "metadata": {},
   "outputs": [],
   "source": [
    "import math\n",
    "import matplotlib.pyplot as plt\n",
    "import numpy as np\n",
    "import pandas as pd\n",
    "import numpy as np\n",
    "import sklearn\n",
    "import skelm\n",
    "from sklearn.pipeline import Pipeline\n",
    "from sklearn.model_selection import GridSearchCV\n",
    "from sklearn.feature_selection import SelectKBest, mutual_info_classif, f_classif, RFE, SequentialFeatureSelector\n",
    "\n",
    "from saving_outputs import *\n",
    "from load_data import *\n",
    "from masks import *\n",
    "from decoding import *\n",
    "from plots import *\n",
    "from utility import *\n",
    "from metrics import *\n",
    "\n",
    "\n",
    "SEED = 0\n",
    "random.seed(SEED)\n",
    "classes = ['Up', 'Down', 'Right', 'Left']\n",
    "nb_runs = 12\n",
    "length_one_modality = nb_runs * len(classes)\n",
    "subjects_ids = range(1, 24)\n",
    "n_subjects = len(subjects_ids)\n",
    "n_individual_perms = 1000\n",
    "labels = {'vis' : np.array(classes*nb_runs), 'aud' : np.array(classes*nb_runs)}\n",
    "labels_same = np.array(classes*nb_runs)\n",
    "\n",
    "within_modal_tasks_regions = [([\"vis\"], [\"V5_L\", \"V5_R\"]),\n",
    "                              ([\"vis\"], [\"PT_L\", \"PT_R\"]),\n",
    "                              ([\"aud\"], [\"V5_L\", \"V5_R\"]),\n",
    "                              ([\"aud\"], [\"PT_L\", \"PT_R\"])]\n",
    "\n",
    "cross_modal_tasks_regions = [([\"vis\", \"aud\"], [\"V5_L\", \"V5_R\"]),\n",
    "                             ([\"vis\", \"aud\"], [\"PT_L\", \"PT_R\"])]"
   ]
  },
  {
   "cell_type": "markdown",
   "metadata": {},
   "source": [
    "# Analyses"
   ]
  },
  {
   "cell_type": "code",
   "execution_count": null,
   "metadata": {
    "collapsed": false,
    "pycharm": {
     "name": "#%%\n"
    }
   },
   "outputs": [],
   "source": [
    "from_who = \"our\"   # 2 possibilities : \"mohameds\" or \"our\"\n",
    "voxel_sizes = [\"2\"] # 2 possibilities : \"2\" or \"3\"\n",
    "use_t_maps = True # use t-maps or beta-maps\n",
    "correction = \"_Tcorrected\" # a t-value has been used to create ROIs or no\n",
    "#radius_mask = \"7\"\n",
    "radiuses = range(5,6)\n",
    "\n",
    "#masks_folder=\"masks/\"+from_who+\"_masks\"+\"_\"+voxel_size+\"_radius=\"+radius_mask\n",
    "\n",
    "std_scaler = sklearn.preprocessing.StandardScaler()\n",
    "\n",
    "classifiers = {\n",
    "    'svm':sklearn.svm.SVC(C=1, random_state=SEED),\n",
    "    #'LR':sklearn.linear_model.LogisticRegression(random_state=SEED)\n",
    "    #'ELM':skelm.ELMClassifier(random_state=SEED, n_neurons=100, alpha=1, ufunc='sigm')\n",
    "    }\n",
    "classifier = classifiers[\"svm\"]\n",
    "\n",
    "param_grids = {\n",
    "    'svm':{\n",
    "        #'svm__C': [0.1, 1],\n",
    "        #'svm__gamma': [1, 0.1],\n",
    "        'svm__kernel': ['linear']},\n",
    "    'LR':{\n",
    "        'LR__C': [1]},\n",
    "    'ELM':{\n",
    "        'ELM__n_neurons': [100]}\n",
    "    }\n",
    "\n",
    "cv_scheme = list()\n",
    "for i in range(11):\n",
    "    full_idx = range(44)\n",
    "    idx_te = [i*4,i*4+1,i*4+2,i*4+3]\n",
    "    idx_tr = [x for x in full_idx if x not in idx_te]\n",
    "    tr_te_splits = [idx_tr, idx_te]\n",
    "    cv_scheme.append(tr_te_splits)\n"
   ]
  },
  {
   "cell_type": "code",
   "execution_count": null,
   "metadata": {
    "collapsed": false,
    "pycharm": {
     "is_executing": true,
     "name": "#%%\n"
    }
   },
   "outputs": [],
   "source": [
    "out_folders = list()\n",
    "acc_group_combination = dict()\n",
    "voxel_amounts = dict()\n",
    "for voxel_size in voxel_sizes:\n",
    "    acc_group_combination[voxel_size]= dict((radius,None) for radius in radiuses)\n",
    "    voxel_amounts[voxel_size]= [None]*len(radiuses)\n",
    "\n",
    "start_time = time.time()\n",
    "\n",
    "maps_folder=\"brain_maps/\"+from_who+\"_maps\"+\"_\"+voxel_size\n",
    "masks_folder=\"masks/\"+from_who+\"_masks\"+\"_\"+voxel_size+\"_radius=\"+str(5)+correction\n",
    "maps_masked, masks_exist = load_full_data(subjects_ids, len(classes), nb_runs, maps_folder, masks_folder, is_from_mohamed=(from_who==\"mohameds\"), use_t_maps=False)\n",
    "voxel_amounts[voxel_size][0] = maps_masked[0][\"vis\"][0][\"V5_R\"].shape[1]\n",
    "\n",
    "for k in [\"a\"]:\n",
    "    for samples in [15]:\n",
    "\n",
    "        def k_selector(n_voxel): return int(k*n_voxel)\n",
    "        \n",
    "        for i, radius in enumerate(radiuses) :\n",
    "            for voxel_size in voxel_sizes :\n",
    "\n",
    "                \n",
    "                #print(voxel_amounts[voxel_size][i])\n",
    "\n",
    "                models = dict()\n",
    "                #selector = SelectKBest(k=k_selector(voxel_amounts[voxel_size][i]), score_func=f_classif)\n",
    "                for name in classifiers:\n",
    "                    pipeline = Pipeline([('scaler', std_scaler), \n",
    "                                        #('sfs', (SequentialFeatureSelector(skelm.ELMClassifier(random_state=SEED, n_neurons=100, alpha=1, ufunc='sigm'), n_features_to_select=k_selector(voxel_amounts[voxel_size][i])))), \n",
    "                                        #('selection', selector),\n",
    "                                        (name, classifiers[name])])\n",
    "                    GS = GridSearchCV(pipeline, param_grids[name], cv=cv_scheme, n_jobs=3)\n",
    "                    models[name] = GS\n",
    "\n",
    "                decoder = Decoder(n_perm=n_individual_perms, models=models, n_classes=len(classes), n_splits=nb_runs, seed=SEED)\n",
    "                decoder.set_masks_exist(masks_exist)\n",
    "\n",
    "                # launch analyses\n",
    "                confusion_matrixes_within = decoder.within_modality_decoding(maps_masked, labels, subjects_ids, within_modal_tasks_regions)\n",
    "                confusion_matrixes_within = change_confusion_matrixes_org(confusion_matrixes_within[0], subjects_ids, models.keys())\n",
    "\n",
    "                confusion_matrixes_cross = decoder.cross_modality_decoding(maps_masked, labels, subjects_ids, cross_modal_tasks_regions)\n",
    "                confusion_matrixes_cross = change_confusion_matrixes_org(confusion_matrixes_cross[0], subjects_ids, models.keys())\n",
    "\n",
    "                # saving results\n",
    "                type_maps = \"_t_maps_\" if use_t_maps else \"_beta_maps_\"\n",
    "                out_directory = \"out/\"+from_who+\"_\"+type_maps+voxel_size+\"_radius=\"+str(radius)+\"_\"+str(classifier)+\"selecting_\"+str(k)+\"%/\"\n",
    "                create_directory(out_directory)\n",
    "                out_folders.append(out_directory)\n",
    "\n",
    "                save_dicts(out_directory + \"confusion_matrixes_within.csv\", confusion_matrixes_within[\"svm\"],\n",
    "                        list(confusion_matrixes_within[\"svm\"][0].keys()), subjects_ids)\n",
    "                acc_within = compute_metric(out_directory, subjects_ids, {'name' : 'accuracy', 'function':accuracy}, \"within\", masks_exist, len(classes), ret = True)\n",
    "\n",
    "                save_dicts(out_directory + \"confusion_matrixes_cross.csv\", confusion_matrixes_cross[\"svm\"],\n",
    "                        list(confusion_matrixes_cross[\"svm\"][0].keys()), subjects_ids)\n",
    "\n",
    "                acc_cross = compute_metric(out_directory, subjects_ids, {'name' : 'cross', 'function':accuracy}, \"cross\", masks_exist, len(classes), ret = True)\n",
    "\n",
    "                within_modality_group_results = average_dicos(acc_within)\n",
    "                save_dicts(out_directory + \"group_scores_within.csv\", [within_modality_group_results],\n",
    "                        list(within_modality_group_results.keys()), [0])\n",
    "                acc_group_combination[voxel_size][radius] = within_modality_group_results\n",
    "\n",
    "                cross_modality_group_results = average_dicos(acc_cross)\n",
    "                save_dicts(out_directory + \"group_scores_cross.csv\", [cross_modality_group_results],\n",
    "                        list(cross_modality_group_results.keys()), [0])\n",
    "                acc_group_combination[voxel_size][radius].update(cross_modality_group_results)\n",
    "\n",
    "\n",
    "                duration = time.time()-start_time\n",
    "                print(\" iteration with k=\"+str(k)+\" done in \"+str(duration)+\" seconds\")"
   ]
  },
  {
   "cell_type": "markdown",
   "metadata": {
    "collapsed": false
   },
   "source": [
    "# Plot scores depending on parameters"
   ]
  },
  {
   "cell_type": "code",
   "execution_count": null,
   "metadata": {
    "collapsed": false,
    "pycharm": {
     "name": "#%%\n"
    }
   },
   "outputs": [],
   "source": [
    "colors = {\"2\":\"tab:green\",\"3\":\"tab:orange\"}\n",
    "plt_directory = \"plots/\"+from_who+\"_\"+type_maps+voxel_size+\"_radius=\"+str(radius)+\"_\"+str(classifier)+\"smote\"+str(samples)+\"kn\"+str(kn)+\"/\"\n",
    "create_directory(plt_directory)\n",
    "plotter = Plotter(plt_directory, subjects_ids)\n",
    "scores_var = dict()\n",
    "\n",
    "for i, analysis in enumerate(acc_group_combination[\"2\"][5]):\n",
    "    # faire le plot\n",
    "    for voxel_size in  voxel_sizes :\n",
    "        scores = [acc_group_combination[voxel_size][radius][analysis] for radius in radiuses]\n",
    "        scores_var[analysis] = np.var(scores*100)\n",
    "        print(analysis)\n",
    "        print((max(scores)-min(scores))*100)\n",
    "        plt.plot(radiuses, scores, '-o', color = colors[voxel_size], label = voxel_size+\" mm\")\n",
    "        plt.axhline(0.25, color=\"gray\", alpha=0.5)\n",
    "    title = plotter.generate_title(\"Accuracy\",analysis,0)\n",
    "    plt.ylim(0.2,0.5)\n",
    "    plotter.save(title+ \", depending on ROI radius\",\"\",\"mean accuracy\",\"radius [mm]\",legend=True)\n",
    "\n",
    "    for voxel_size in  voxel_sizes :\n",
    "        scores = [acc_group_combination[voxel_size][radius][analysis] for radius in radiuses]\n",
    "        #n_voxels = list(map(k_selector, np.array(voxel_amounts[voxel_size])))\n",
    "        plt.plot(np.array(voxel_amounts[voxel_size]), scores, '-o', color = colors[voxel_size], label = voxel_size+\" mm\")\n",
    "        #print(\"number of voxels : \"+str(voxel_amounts[voxel_size]))\n",
    "        #print(\"number of voxels selected : \"+str(n_voxels))\n",
    "        plt.axhline(0.25, color=\"gray\", alpha=0.5)\n",
    "    title = plotter.generate_title(\"Accuracy\",analysis,0)\n",
    "    plt.ylim(0.2,0.5)\n",
    "    plotter.save(title+\", depending on amount of voxels\",\"\",\"mean accuracy\",\"voxel amount\",legend=True)\n",
    "\n",
    "print(scores_var)"
   ]
  },
  {
   "cell_type": "code",
   "execution_count": null,
   "metadata": {},
   "outputs": [],
   "source": [
    "print([(an, scores_var[an]) for an in scores_var if scores_var[an] == max(scores_var.values())])\n",
    "print([(an, scores_var[an]) for an in scores_var if scores_var[an] == min(scores_var.values())])"
   ]
  },
  {
   "cell_type": "markdown",
   "metadata": {},
   "source": [
    "# Plot score and score variance for different k's\n",
    "### (voxel_size and radius kept constant)"
   ]
  },
  {
   "cell_type": "code",
   "execution_count": null,
   "metadata": {},
   "outputs": [],
   "source": [
    "#out_folders = list()\n",
    "# subjects_ids = range(1, 24)\n",
    "# for radius in radiuses:\n",
    "#     for voxel_size in voxel_sizes:\n",
    "#         out_folders.append(\"out/\"+from_who+\"_\"+voxel_size+\"_radius=\"+str(radius)+\"_\"+str(classifier)+\"/\")\n",
    "#         print(out_folders)\n",
    "\n",
    "# print(voxel_amounts[voxel_size][0])    \n",
    "use_t_maps = True # use t-maps or beta-maps\n",
    "out_folders = [\"out/our_t_maps__avgtest_LogisticRegression(random_state=0)_3_radius=10/\",\n",
    "               \"out/our_t_maps__avgtest_SVC(random_state=0)_3_radius=10/\",\n",
    "               \"out/our_t_maps_LogisticRegression(random_state=0)_3_radius=10/\",\n",
    "               \"out/our_t_maps_SVC(random_state=0)_3_radius=10/\"]\n",
    "\n",
    "# for folder in out_folders:\n",
    "\n",
    "#     acc_within = compute_metric(folder, subjects_ids, {'name' : 'accuracy', 'function':accuracy}, \"within\", masks_exist, len(classes), ret = True)\n",
    "#     acc_cross = compute_metric(folder, subjects_ids, {'name' : 'accuracy', 'function':accuracy}, \"cross\", masks_exist, len(classes), ret = True)\n",
    "\n",
    "#     compute_accuracy_variance(folder, \"within\")\n",
    "#     compute_accuracy_variance(folder, \"cross\")\n",
    "    \n",
    "labels = [\"avg LR\", \"avg SVM\", \"LR\", \"SVM\"]\n",
    "\n",
    "plotter = Plotter(\"plots/comparing_avgtest_t_maps\"+\"_\".join(labels), subjects_ids)\n",
    "plotter.plot_tests_scores_from_different_folders(out_folders, labels, \"average of 2 tests set\", \"technique\")\n",
    "plotter.plot_accuracy_var_from_different_folders(out_folders, labels)"
   ]
  }
 ],
 "metadata": {
  "interpreter": {
   "hash": "2db524e06e9f5f4ffedc911c917cb75e12dbc923643829bf417064a77eb14d37"
  },
  "kernelspec": {
   "display_name": "Python 3.8.6 64-bit",
   "language": "python",
   "name": "python3"
  },
  "language_info": {
   "codemirror_mode": {
    "name": "ipython",
    "version": 3
   },
   "file_extension": ".py",
   "mimetype": "text/x-python",
   "name": "python",
   "nbconvert_exporter": "python",
   "pygments_lexer": "ipython3",
   "version": "3.8.6"
  },
  "orig_nbformat": 4
 },
 "nbformat": 4,
 "nbformat_minor": 2
}
