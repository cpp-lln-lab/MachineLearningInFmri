{
 "cells": [
  {
   "cell_type": "markdown",
   "metadata": {},
   "source": [
    "# Imports and Constants"
   ]
  },
  {
   "cell_type": "code",
   "execution_count": 1,
   "metadata": {},
   "outputs": [
    {
     "name": "stderr",
     "output_type": "stream",
     "text": [
      "C:\\Python38\\lib\\site-packages\\numpy\\_distributor_init.py:30: UserWarning: loaded more than 1 DLL from .libs:\n",
      "C:\\Python38\\lib\\site-packages\\numpy\\.libs\\libopenblas.JPIJNSWNNAN3CE6LLI5FWSPHUT2VXMTH.gfortran-win_amd64.dll\n",
      "C:\\Python38\\lib\\site-packages\\numpy\\.libs\\libopenblas.XWYDX2IKJW2NMTWSFYNGFUWKQU3LYTCZ.gfortran-win_amd64.dll\n",
      "  warnings.warn(\"loaded more than 1 DLL from .libs:\"\n",
      "C:\\Python38\\lib\\site-packages\\nilearn\\datasets\\__init__.py:93: FutureWarning: Fetchers from the nilearn.datasets module will be updated in version 0.9 to return python strings instead of bytes and Pandas dataframes instead of Numpy arrays.\n",
      "  warn(\"Fetchers from the nilearn.datasets module will be \"\n"
     ]
    }
   ],
   "source": [
    "import matplotlib.pyplot as plt\n",
    "import numpy as np\n",
    "import pandas as pd\n",
    "import sklearn\n",
    "from sklearn.pipeline import Pipeline\n",
    "import random\n",
    "import os\n",
    "\n",
    "from savingOutputs import *\n",
    "from loadData import *\n",
    "from masks import *\n",
    "from decoding import *\n",
    "from plots import *\n",
    "from utility import *\n",
    "from metrics import *"
   ]
  },
  {
   "cell_type": "code",
   "execution_count": 2,
   "metadata": {},
   "outputs": [],
   "source": [
    "from_who = \"mohameds\"   # 2 possibilities : \"mohameds\" or \"our\"\n",
    "maps_folder=\"brain_maps/\"+from_who+\"_maps\"\n",
    "masks_folder=\"masks/\"+from_who+\"_masks\"\n",
    "\n",
    "SEED = 0\n",
    "random.seed(SEED)\n",
    "classes = ['Up', 'Down', 'Right', 'Left']\n",
    "nb_runs = 12\n",
    "length_one_modality = nb_runs * len(classes)\n",
    "subjects_ids = range(1, 24)\n",
    "n_subjects = len(subjects_ids)\n",
    "n_individual_perms = 1000\n",
    "class_labels = [\"\"] * (2 * length_one_modality)\n",
    "for i in range(length_one_modality * 2):\n",
    "    class_labels[i] = classes[(i // nb_runs) % len(classes)]\n",
    "labels = dict()\n",
    "labels[\"vis\"] = np.array(class_labels[:length_one_modality])\n",
    "labels[\"aud\"] = np.array(class_labels[length_one_modality:])\n",
    "labels_same = labels[\"vis\"]\n",
    "\n",
    "within_modal_tasks_regions = [([\"vis\"], [\"V5_L\", \"V5_R\"]),\n",
    "                           ([\"vis\"], [\"PT_L\", \"PT_R\"]),\n",
    "                           ([\"aud\"], [\"V5_L\", \"V5_R\"]),\n",
    "                           ([\"aud\"], [\"PT_L\", \"PT_R\"])]\n",
    "\n",
    "cross_modal_tasks_regions = [([\"vis\", \"aud\"], [\"V5_L\", \"V5_R\"]),\n",
    "                            ([\"vis\", \"aud\"], [\"PT_L\", \"PT_R\"])]\n",
    "\n",
    "scaler = sklearn.preprocessing.StandardScaler()\n",
    "classifier = sklearn.svm.SVC(C = 1, kernel = 'linear', random_state=SEED)  # other parameters are default parameters\n",
    "pipeline = Pipeline([('std_scaler', scaler), ('svm', classifier)])\n",
    "decoder = Decoder(n_perm=n_individual_perms, model=pipeline, n_classes=len(classes), n_splits=nb_runs, seed=SEED)"
   ]
  },
  {
   "cell_type": "markdown",
   "metadata": {},
   "source": [
    "# Loading data"
   ]
  },
  {
   "cell_type": "code",
   "execution_count": 3,
   "metadata": {
    "collapsed": false,
    "pycharm": {
     "name": "#%%\n"
    }
   },
   "outputs": [],
   "source": [
    "maps_masked, masks_exist = load_full_data(subjects_ids, length_one_modality, maps_folder, masks_folder, is_from_mohamed=(from_who==\"mohameds\"))\n",
    "decoder.set_masks_exist(masks_exist)"
   ]
  },
  {
   "cell_type": "markdown",
   "metadata": {
    "collapsed": false
   },
   "source": [
    "# Within-modality decoding"
   ]
  },
  {
   "cell_type": "code",
   "execution_count": 4,
   "metadata": {
    "collapsed": false,
    "pycharm": {
     "name": "#%%\n"
    }
   },
   "outputs": [],
   "source": [
    "confusion_matrixes_within = decoder.within_modality_decoding(maps_masked, labels, subjects_ids, within_modal_tasks_regions)\n",
    "group_confusion_matrixes_within = average_dicos(confusion_matrixes_within)"
   ]
  },
  {
   "cell_type": "markdown",
   "metadata": {
    "collapsed": false
   },
   "source": [
    "# Cross-modal decoding"
   ]
  },
  {
   "cell_type": "code",
   "execution_count": 5,
   "metadata": {
    "collapsed": false,
    "pycharm": {
     "name": "#%%\n"
    }
   },
   "outputs": [],
   "source": [
    "confusion_matrixes_cross = decoder.cross_modality_decoding(maps_masked, labels, subjects_ids, cross_modal_tasks_regions)\n",
    "group_confusion_matrixes_cross = average_dicos(confusion_matrixes_cross)"
   ]
  },
  {
   "cell_type": "markdown",
   "metadata": {
    "collapsed": false
   },
   "source": [
    "# Bootstrapping to assess group-level significance"
   ]
  },
  {
   "cell_type": "code",
   "execution_count": 6,
   "metadata": {
    "collapsed": false,
    "pycharm": {
     "name": "#%%\n"
    }
   },
   "outputs": [],
   "source": [
    "n_single_perm = 100\n",
    "n_bootstrap = 100_000"
   ]
  },
  {
   "cell_type": "code",
   "execution_count": 7,
   "metadata": {
    "collapsed": false,
    "pycharm": {
     "is_executing": true,
     "name": "#%%\n"
    }
   },
   "outputs": [
    {
     "name": "stdout",
     "output_type": "stream",
     "text": [
      "Running models done in 57.1590359210968 seconds\n",
      "Running models done in 1.6309659481048584 seconds\n"
     ]
    }
   ],
   "source": [
    "within_cf_100_perm = decoder.score_bootstrapped_permutations(n_single_perm, labels_same,within_modal_tasks_regions,maps_masked,n_subjects, within_modality=True)\n",
    "within_scores_100_perm = compute_accuracy_bootstrap(n_subjects, n_single_perm, within_cf_100_perm)\n",
    "bootstrapped_distribution_within = compute_bootstrap_distribution(n_bootstrap, n_subjects, within_scores_100_perm, n_single_perm)"
   ]
  },
  {
   "cell_type": "code",
   "execution_count": 8,
   "metadata": {
    "collapsed": false,
    "pycharm": {
     "is_executing": true,
     "name": "#%%\n"
    }
   },
   "outputs": [
    {
     "name": "stdout",
     "output_type": "stream",
     "text": [
      "Running models done in 58.86799192428589 seconds\n",
      "Running models done in 1.0140414237976074 seconds\n"
     ]
    }
   ],
   "source": [
    "cross_cfm_100_perm = decoder.score_bootstrapped_permutations(n_single_perm, labels_same,cross_modal_tasks_regions,maps_masked,n_subjects, within_modality=False)\n",
    "cross_scores_100_perm = compute_accuracy_bootstrap(n_subjects, n_single_perm, cross_cfm_100_perm)\n",
    "bootstrapped_distribution_cross = compute_bootstrap_distribution(n_bootstrap, n_subjects, cross_scores_100_perm, n_single_perm)"
   ]
  },
  {
   "cell_type": "markdown",
   "metadata": {},
   "source": [
    "# Saving results"
   ]
  },
  {
   "cell_type": "code",
   "execution_count": 9,
   "metadata": {},
   "outputs": [],
   "source": [
    "params = classifier.get_params()\n",
    "out_directory = \"out/\"+from_who+\"_\"+\"_\".join(k+\"=\"+str(params[k]) for k in ['C', 'kernel'])+\"/\"\n",
    "create_directory(out_directory)"
   ]
  },
  {
   "cell_type": "code",
   "execution_count": 10,
   "metadata": {
    "collapsed": false,
    "pycharm": {
     "name": "#%%\n"
    }
   },
   "outputs": [
    {
     "name": "stderr",
     "output_type": "stream",
     "text": [
      "c:\\Users\\simia\\Documents\\MasterThesis\\MasterThesisGit\\savingOutputs.py:15: FutureWarning: The frame.append method is deprecated and will be removed from pandas in a future version. Use pandas.concat instead.\n",
      "  df = df.append(dico, ignore_index=True)\n",
      "c:\\Users\\simia\\Documents\\MasterThesis\\MasterThesisGit\\savingOutputs.py:15: FutureWarning: The frame.append method is deprecated and will be removed from pandas in a future version. Use pandas.concat instead.\n",
      "  df = df.append(dico, ignore_index=True)\n",
      "c:\\Users\\simia\\Documents\\MasterThesis\\MasterThesisGit\\savingOutputs.py:15: FutureWarning: The frame.append method is deprecated and will be removed from pandas in a future version. Use pandas.concat instead.\n",
      "  df = df.append(dico, ignore_index=True)\n",
      "c:\\Users\\simia\\Documents\\MasterThesis\\MasterThesisGit\\savingOutputs.py:15: FutureWarning: The frame.append method is deprecated and will be removed from pandas in a future version. Use pandas.concat instead.\n",
      "  df = df.append(dico, ignore_index=True)\n",
      "c:\\Users\\simia\\Documents\\MasterThesis\\MasterThesisGit\\savingOutputs.py:15: FutureWarning: The frame.append method is deprecated and will be removed from pandas in a future version. Use pandas.concat instead.\n",
      "  df = df.append(dico, ignore_index=True)\n",
      "c:\\Users\\simia\\Documents\\MasterThesis\\MasterThesisGit\\savingOutputs.py:15: FutureWarning: The frame.append method is deprecated and will be removed from pandas in a future version. Use pandas.concat instead.\n",
      "  df = df.append(dico, ignore_index=True)\n",
      "c:\\Users\\simia\\Documents\\MasterThesis\\MasterThesisGit\\savingOutputs.py:15: FutureWarning: The frame.append method is deprecated and will be removed from pandas in a future version. Use pandas.concat instead.\n",
      "  df = df.append(dico, ignore_index=True)\n",
      "c:\\Users\\simia\\Documents\\MasterThesis\\MasterThesisGit\\savingOutputs.py:15: FutureWarning: The frame.append method is deprecated and will be removed from pandas in a future version. Use pandas.concat instead.\n",
      "  df = df.append(dico, ignore_index=True)\n",
      "c:\\Users\\simia\\Documents\\MasterThesis\\MasterThesisGit\\savingOutputs.py:15: FutureWarning: The frame.append method is deprecated and will be removed from pandas in a future version. Use pandas.concat instead.\n",
      "  df = df.append(dico, ignore_index=True)\n",
      "c:\\Users\\simia\\Documents\\MasterThesis\\MasterThesisGit\\savingOutputs.py:15: FutureWarning: The frame.append method is deprecated and will be removed from pandas in a future version. Use pandas.concat instead.\n",
      "  df = df.append(dico, ignore_index=True)\n",
      "c:\\Users\\simia\\Documents\\MasterThesis\\MasterThesisGit\\savingOutputs.py:15: FutureWarning: The frame.append method is deprecated and will be removed from pandas in a future version. Use pandas.concat instead.\n",
      "  df = df.append(dico, ignore_index=True)\n",
      "c:\\Users\\simia\\Documents\\MasterThesis\\MasterThesisGit\\savingOutputs.py:15: FutureWarning: The frame.append method is deprecated and will be removed from pandas in a future version. Use pandas.concat instead.\n",
      "  df = df.append(dico, ignore_index=True)\n",
      "c:\\Users\\simia\\Documents\\MasterThesis\\MasterThesisGit\\savingOutputs.py:15: FutureWarning: The frame.append method is deprecated and will be removed from pandas in a future version. Use pandas.concat instead.\n",
      "  df = df.append(dico, ignore_index=True)\n",
      "c:\\Users\\simia\\Documents\\MasterThesis\\MasterThesisGit\\savingOutputs.py:15: FutureWarning: The frame.append method is deprecated and will be removed from pandas in a future version. Use pandas.concat instead.\n",
      "  df = df.append(dico, ignore_index=True)\n",
      "c:\\Users\\simia\\Documents\\MasterThesis\\MasterThesisGit\\savingOutputs.py:15: FutureWarning: The frame.append method is deprecated and will be removed from pandas in a future version. Use pandas.concat instead.\n",
      "  df = df.append(dico, ignore_index=True)\n",
      "c:\\Users\\simia\\Documents\\MasterThesis\\MasterThesisGit\\savingOutputs.py:15: FutureWarning: The frame.append method is deprecated and will be removed from pandas in a future version. Use pandas.concat instead.\n",
      "  df = df.append(dico, ignore_index=True)\n",
      "c:\\Users\\simia\\Documents\\MasterThesis\\MasterThesisGit\\savingOutputs.py:15: FutureWarning: The frame.append method is deprecated and will be removed from pandas in a future version. Use pandas.concat instead.\n",
      "  df = df.append(dico, ignore_index=True)\n",
      "c:\\Users\\simia\\Documents\\MasterThesis\\MasterThesisGit\\savingOutputs.py:15: FutureWarning: The frame.append method is deprecated and will be removed from pandas in a future version. Use pandas.concat instead.\n",
      "  df = df.append(dico, ignore_index=True)\n",
      "c:\\Users\\simia\\Documents\\MasterThesis\\MasterThesisGit\\savingOutputs.py:15: FutureWarning: The frame.append method is deprecated and will be removed from pandas in a future version. Use pandas.concat instead.\n",
      "  df = df.append(dico, ignore_index=True)\n",
      "c:\\Users\\simia\\Documents\\MasterThesis\\MasterThesisGit\\savingOutputs.py:15: FutureWarning: The frame.append method is deprecated and will be removed from pandas in a future version. Use pandas.concat instead.\n",
      "  df = df.append(dico, ignore_index=True)\n"
     ]
    }
   ],
   "source": [
    "save_dicts(out_directory+\"masks_exist.csv\", masks_exist, list(masks_exist[0].keys()), subjects_ids)\n",
    "save_dicts(out_directory+\"confusion_matrixes_within.csv\", confusion_matrixes_within, list(confusion_matrixes_within[0].keys()), subjects_ids)\n",
    "acc_within = compute_metric(out_directory, subjects_ids, {'name' : 'accuracy', 'function':accuracy}, \"within\", masks_exist, ret = True)\n",
    "compute_metric(out_directory, subjects_ids, {'name' : 'recall', 'function':recall}, \"within\", masks_exist)\n",
    "compute_metric(out_directory, subjects_ids, {'name' : 'precision', 'function':precision}, \"within\", masks_exist)"
   ]
  },
  {
   "cell_type": "code",
   "execution_count": 11,
   "metadata": {
    "collapsed": false,
    "pycharm": {
     "is_executing": true,
     "name": "#%%\n"
    }
   },
   "outputs": [
    {
     "name": "stderr",
     "output_type": "stream",
     "text": [
      "c:\\Users\\simia\\Documents\\MasterThesis\\MasterThesisGit\\savingOutputs.py:15: FutureWarning: The frame.append method is deprecated and will be removed from pandas in a future version. Use pandas.concat instead.\n",
      "  df = df.append(dico, ignore_index=True)\n",
      "c:\\Users\\simia\\Documents\\MasterThesis\\MasterThesisGit\\savingOutputs.py:15: FutureWarning: The frame.append method is deprecated and will be removed from pandas in a future version. Use pandas.concat instead.\n",
      "  df = df.append(dico, ignore_index=True)\n",
      "c:\\Users\\simia\\Documents\\MasterThesis\\MasterThesisGit\\savingOutputs.py:15: FutureWarning: The frame.append method is deprecated and will be removed from pandas in a future version. Use pandas.concat instead.\n",
      "  df = df.append(dico, ignore_index=True)\n",
      "c:\\Users\\simia\\Documents\\MasterThesis\\MasterThesisGit\\savingOutputs.py:15: FutureWarning: The frame.append method is deprecated and will be removed from pandas in a future version. Use pandas.concat instead.\n",
      "  df = df.append(dico, ignore_index=True)\n",
      "c:\\Users\\simia\\Documents\\MasterThesis\\MasterThesisGit\\savingOutputs.py:15: FutureWarning: The frame.append method is deprecated and will be removed from pandas in a future version. Use pandas.concat instead.\n",
      "  df = df.append(dico, ignore_index=True)\n",
      "c:\\Users\\simia\\Documents\\MasterThesis\\MasterThesisGit\\savingOutputs.py:15: FutureWarning: The frame.append method is deprecated and will be removed from pandas in a future version. Use pandas.concat instead.\n",
      "  df = df.append(dico, ignore_index=True)\n",
      "c:\\Users\\simia\\Documents\\MasterThesis\\MasterThesisGit\\savingOutputs.py:15: FutureWarning: The frame.append method is deprecated and will be removed from pandas in a future version. Use pandas.concat instead.\n",
      "  df = df.append(dico, ignore_index=True)\n",
      "c:\\Users\\simia\\Documents\\MasterThesis\\MasterThesisGit\\savingOutputs.py:15: FutureWarning: The frame.append method is deprecated and will be removed from pandas in a future version. Use pandas.concat instead.\n",
      "  df = df.append(dico, ignore_index=True)\n",
      "c:\\Users\\simia\\Documents\\MasterThesis\\MasterThesisGit\\savingOutputs.py:15: FutureWarning: The frame.append method is deprecated and will be removed from pandas in a future version. Use pandas.concat instead.\n",
      "  df = df.append(dico, ignore_index=True)\n",
      "c:\\Users\\simia\\Documents\\MasterThesis\\MasterThesisGit\\savingOutputs.py:15: FutureWarning: The frame.append method is deprecated and will be removed from pandas in a future version. Use pandas.concat instead.\n",
      "  df = df.append(dico, ignore_index=True)\n",
      "c:\\Users\\simia\\Documents\\MasterThesis\\MasterThesisGit\\savingOutputs.py:15: FutureWarning: The frame.append method is deprecated and will be removed from pandas in a future version. Use pandas.concat instead.\n",
      "  df = df.append(dico, ignore_index=True)\n",
      "c:\\Users\\simia\\Documents\\MasterThesis\\MasterThesisGit\\savingOutputs.py:15: FutureWarning: The frame.append method is deprecated and will be removed from pandas in a future version. Use pandas.concat instead.\n",
      "  df = df.append(dico, ignore_index=True)\n",
      "c:\\Users\\simia\\Documents\\MasterThesis\\MasterThesisGit\\savingOutputs.py:15: FutureWarning: The frame.append method is deprecated and will be removed from pandas in a future version. Use pandas.concat instead.\n",
      "  df = df.append(dico, ignore_index=True)\n",
      "c:\\Users\\simia\\Documents\\MasterThesis\\MasterThesisGit\\savingOutputs.py:15: FutureWarning: The frame.append method is deprecated and will be removed from pandas in a future version. Use pandas.concat instead.\n",
      "  df = df.append(dico, ignore_index=True)\n",
      "c:\\Users\\simia\\Documents\\MasterThesis\\MasterThesisGit\\savingOutputs.py:15: FutureWarning: The frame.append method is deprecated and will be removed from pandas in a future version. Use pandas.concat instead.\n",
      "  df = df.append(dico, ignore_index=True)\n",
      "c:\\Users\\simia\\Documents\\MasterThesis\\MasterThesisGit\\savingOutputs.py:15: FutureWarning: The frame.append method is deprecated and will be removed from pandas in a future version. Use pandas.concat instead.\n",
      "  df = df.append(dico, ignore_index=True)\n"
     ]
    }
   ],
   "source": [
    "save_dicts(out_directory+\"confusion_matrixes_cross.csv\", confusion_matrixes_cross, list(confusion_matrixes_cross[0].keys()), subjects_ids)\n",
    "acc_cross = compute_metric(out_directory, subjects_ids, {'name' : 'accuracy', 'function':accuracy}, \"cross\", masks_exist, ret = True)\n",
    "compute_metric(out_directory, subjects_ids, {'name' : 'recall', 'function':recall}, \"cross\", masks_exist)\n",
    "compute_metric(out_directory, subjects_ids, {'name' : 'precision', 'function':precision}, \"cross\", masks_exist)"
   ]
  },
  {
   "cell_type": "code",
   "execution_count": 12,
   "metadata": {
    "collapsed": false,
    "pycharm": {
     "name": "#%%\n"
    }
   },
   "outputs": [
    {
     "name": "stderr",
     "output_type": "stream",
     "text": [
      "c:\\Users\\simia\\Documents\\MasterThesis\\MasterThesisGit\\savingOutputs.py:15: FutureWarning: The frame.append method is deprecated and will be removed from pandas in a future version. Use pandas.concat instead.\n",
      "  df = df.append(dico, ignore_index=True)\n",
      "c:\\Users\\simia\\Documents\\MasterThesis\\MasterThesisGit\\savingOutputs.py:15: FutureWarning: The frame.append method is deprecated and will be removed from pandas in a future version. Use pandas.concat instead.\n",
      "  df = df.append(dico, ignore_index=True)\n"
     ]
    }
   ],
   "source": [
    "within_modality_group_results = average_dicos(acc_within)\n",
    "save_dicts(out_directory+\"group_scores_within.csv\", [within_modality_group_results], list(within_modality_group_results.keys()), [0])\n",
    "\n",
    "cross_modality_group_results = average_dicos(acc_cross)\n",
    "save_dicts(out_directory+\"group_scores_cross.csv\", [cross_modality_group_results], list(cross_modality_group_results.keys()), [0])"
   ]
  },
  {
   "cell_type": "code",
   "execution_count": 13,
   "metadata": {
    "collapsed": false,
    "pycharm": {
     "name": "#%%\n"
    }
   },
   "outputs": [
    {
     "name": "stderr",
     "output_type": "stream",
     "text": [
      "c:\\Users\\simia\\Documents\\MasterThesis\\MasterThesisGit\\savingOutputs.py:15: FutureWarning: The frame.append method is deprecated and will be removed from pandas in a future version. Use pandas.concat instead.\n",
      "  df = df.append(dico, ignore_index=True)\n"
     ]
    }
   ],
   "source": [
    "save_dicts(out_directory+\"accuracy_bootstraps_within.csv\", [bootstrapped_distribution_within], list(bootstrapped_distribution_within[0].keys()), range(n_bootstrap))"
   ]
  },
  {
   "cell_type": "code",
   "execution_count": 14,
   "metadata": {
    "collapsed": false,
    "pycharm": {
     "name": "#%%\n"
    }
   },
   "outputs": [
    {
     "name": "stderr",
     "output_type": "stream",
     "text": [
      "c:\\Users\\simia\\Documents\\MasterThesis\\MasterThesisGit\\savingOutputs.py:15: FutureWarning: The frame.append method is deprecated and will be removed from pandas in a future version. Use pandas.concat instead.\n",
      "  df = df.append(dico, ignore_index=True)\n"
     ]
    }
   ],
   "source": [
    "save_dicts(out_directory+\"accuracy_bootstraps_cross.csv\", [bootstrapped_distribution_cross], list(bootstrapped_distribution_cross[0].keys()), range(n_bootstrap))"
   ]
  },
  {
   "cell_type": "markdown",
   "metadata": {},
   "source": [
    "# Plotting results (from files of saved results)"
   ]
  },
  {
   "cell_type": "code",
   "execution_count": 15,
   "metadata": {
    "collapsed": false,
    "pycharm": {
     "name": "#%%\n"
    }
   },
   "outputs": [],
   "source": [
    "params = classifier.get_params()\n",
    "results_directory = \"out/\"+from_who+\"_\"+\"_\".join(k+\"=\"+str(params[k]) for k in ['C', 'kernel'])+\"/\"     # to be changed depending on where you want to see the results from\n",
    "cv_group_df = retrieve_cv_metric(results_directory, \"group_scores\")\n",
    "cv_df = retrieve_cv_metric(results_directory, \"accuracy\")\n",
    "cfm_df = retrieve_cv_matrixes(results_directory)"
   ]
  },
  {
   "cell_type": "code",
   "execution_count": 16,
   "metadata": {
    "collapsed": false,
    "pycharm": {
     "is_executing": true,
     "name": "#%%\n"
    }
   },
   "outputs": [
    {
     "name": "stderr",
     "output_type": "stream",
     "text": [
      "c:\\Users\\simia\\Documents\\MasterThesis\\MasterThesisGit\\savingOutputs.py:15: FutureWarning: The frame.append method is deprecated and will be removed from pandas in a future version. Use pandas.concat instead.\n",
      "  df = df.append(dico, ignore_index=True)\n"
     ]
    }
   ],
   "source": [
    "# compute estimated p-values for bootstrap\n",
    "bootstrap_df  = retrieve_bootstrap_metric(results_directory, \"accuracy\")\n",
    "pvals = compute_p_val_bootstrap(bootstrap_df, cv_group_df)\n",
    "save_dicts(out_directory+\"estimated_pval_bootstrap.csv\", [pvals], list(pvals.keys()), [0])"
   ]
  },
  {
   "cell_type": "code",
   "execution_count": 17,
   "metadata": {
    "pycharm": {
     "is_executing": true,
     "name": "#%%\n"
    }
   },
   "outputs": [
    {
     "name": "stderr",
     "output_type": "stream",
     "text": [
      "c:\\Users\\simia\\Documents\\MasterThesis\\MasterThesisGit\\utility.py:77: FutureWarning: The frame.append method is deprecated and will be removed from pandas in a future version. Use pandas.concat instead.\n",
      "  vb_df = vb_df.append(new_entry, ignore_index=True)\n",
      "c:\\Users\\simia\\Documents\\MasterThesis\\MasterThesisGit\\utility.py:77: FutureWarning: The frame.append method is deprecated and will be removed from pandas in a future version. Use pandas.concat instead.\n",
      "  vb_df = vb_df.append(new_entry, ignore_index=True)\n",
      "c:\\Users\\simia\\Documents\\MasterThesis\\MasterThesisGit\\utility.py:77: FutureWarning: The frame.append method is deprecated and will be removed from pandas in a future version. Use pandas.concat instead.\n",
      "  vb_df = vb_df.append(new_entry, ignore_index=True)\n",
      "c:\\Users\\simia\\Documents\\MasterThesis\\MasterThesisGit\\utility.py:77: FutureWarning: The frame.append method is deprecated and will be removed from pandas in a future version. Use pandas.concat instead.\n",
      "  vb_df = vb_df.append(new_entry, ignore_index=True)\n",
      "c:\\Users\\simia\\Documents\\MasterThesis\\MasterThesisGit\\utility.py:77: FutureWarning: The frame.append method is deprecated and will be removed from pandas in a future version. Use pandas.concat instead.\n",
      "  vb_df = vb_df.append(new_entry, ignore_index=True)\n",
      "c:\\Users\\simia\\Documents\\MasterThesis\\MasterThesisGit\\utility.py:77: FutureWarning: The frame.append method is deprecated and will be removed from pandas in a future version. Use pandas.concat instead.\n",
      "  vb_df = vb_df.append(new_entry, ignore_index=True)\n",
      "c:\\Users\\simia\\Documents\\MasterThesis\\MasterThesisGit\\utility.py:77: FutureWarning: The frame.append method is deprecated and will be removed from pandas in a future version. Use pandas.concat instead.\n",
      "  vb_df = vb_df.append(new_entry, ignore_index=True)\n",
      "c:\\Users\\simia\\Documents\\MasterThesis\\MasterThesisGit\\utility.py:77: FutureWarning: The frame.append method is deprecated and will be removed from pandas in a future version. Use pandas.concat instead.\n",
      "  vb_df = vb_df.append(new_entry, ignore_index=True)\n",
      "c:\\Users\\simia\\Documents\\MasterThesis\\MasterThesisGit\\utility.py:77: FutureWarning: The frame.append method is deprecated and will be removed from pandas in a future version. Use pandas.concat instead.\n",
      "  vb_df = vb_df.append(new_entry, ignore_index=True)\n",
      "c:\\Users\\simia\\Documents\\MasterThesis\\MasterThesisGit\\utility.py:77: FutureWarning: The frame.append method is deprecated and will be removed from pandas in a future version. Use pandas.concat instead.\n",
      "  vb_df = vb_df.append(new_entry, ignore_index=True)\n",
      "c:\\Users\\simia\\Documents\\MasterThesis\\MasterThesisGit\\utility.py:77: FutureWarning: The frame.append method is deprecated and will be removed from pandas in a future version. Use pandas.concat instead.\n",
      "  vb_df = vb_df.append(new_entry, ignore_index=True)\n",
      "c:\\Users\\simia\\Documents\\MasterThesis\\MasterThesisGit\\utility.py:77: FutureWarning: The frame.append method is deprecated and will be removed from pandas in a future version. Use pandas.concat instead.\n",
      "  vb_df = vb_df.append(new_entry, ignore_index=True)\n",
      "c:\\Users\\simia\\Documents\\MasterThesis\\MasterThesisGit\\utility.py:77: FutureWarning: The frame.append method is deprecated and will be removed from pandas in a future version. Use pandas.concat instead.\n",
      "  vb_df = vb_df.append(new_entry, ignore_index=True)\n",
      "c:\\Users\\simia\\Documents\\MasterThesis\\MasterThesisGit\\utility.py:77: FutureWarning: The frame.append method is deprecated and will be removed from pandas in a future version. Use pandas.concat instead.\n",
      "  vb_df = vb_df.append(new_entry, ignore_index=True)\n",
      "c:\\Users\\simia\\Documents\\MasterThesis\\MasterThesisGit\\utility.py:77: FutureWarning: The frame.append method is deprecated and will be removed from pandas in a future version. Use pandas.concat instead.\n",
      "  vb_df = vb_df.append(new_entry, ignore_index=True)\n",
      "c:\\Users\\simia\\Documents\\MasterThesis\\MasterThesisGit\\utility.py:77: FutureWarning: The frame.append method is deprecated and will be removed from pandas in a future version. Use pandas.concat instead.\n",
      "  vb_df = vb_df.append(new_entry, ignore_index=True)\n",
      "c:\\Users\\simia\\Documents\\MasterThesis\\MasterThesisGit\\utility.py:77: FutureWarning: The frame.append method is deprecated and will be removed from pandas in a future version. Use pandas.concat instead.\n",
      "  vb_df = vb_df.append(new_entry, ignore_index=True)\n",
      "c:\\Users\\simia\\Documents\\MasterThesis\\MasterThesisGit\\utility.py:77: FutureWarning: The frame.append method is deprecated and will be removed from pandas in a future version. Use pandas.concat instead.\n",
      "  vb_df = vb_df.append(new_entry, ignore_index=True)\n",
      "c:\\Users\\simia\\Documents\\MasterThesis\\MasterThesisGit\\utility.py:77: FutureWarning: The frame.append method is deprecated and will be removed from pandas in a future version. Use pandas.concat instead.\n",
      "  vb_df = vb_df.append(new_entry, ignore_index=True)\n",
      "c:\\Users\\simia\\Documents\\MasterThesis\\MasterThesisGit\\utility.py:77: FutureWarning: The frame.append method is deprecated and will be removed from pandas in a future version. Use pandas.concat instead.\n",
      "  vb_df = vb_df.append(new_entry, ignore_index=True)\n",
      "c:\\Users\\simia\\Documents\\MasterThesis\\MasterThesisGit\\utility.py:77: FutureWarning: The frame.append method is deprecated and will be removed from pandas in a future version. Use pandas.concat instead.\n",
      "  vb_df = vb_df.append(new_entry, ignore_index=True)\n",
      "c:\\Users\\simia\\Documents\\MasterThesis\\MasterThesisGit\\utility.py:77: FutureWarning: The frame.append method is deprecated and will be removed from pandas in a future version. Use pandas.concat instead.\n",
      "  vb_df = vb_df.append(new_entry, ignore_index=True)\n",
      "c:\\Users\\simia\\Documents\\MasterThesis\\MasterThesisGit\\utility.py:77: FutureWarning: The frame.append method is deprecated and will be removed from pandas in a future version. Use pandas.concat instead.\n",
      "  vb_df = vb_df.append(new_entry, ignore_index=True)\n",
      "c:\\Users\\simia\\Documents\\MasterThesis\\MasterThesisGit\\utility.py:77: FutureWarning: The frame.append method is deprecated and will be removed from pandas in a future version. Use pandas.concat instead.\n",
      "  vb_df = vb_df.append(new_entry, ignore_index=True)\n",
      "c:\\Users\\simia\\Documents\\MasterThesis\\MasterThesisGit\\utility.py:77: FutureWarning: The frame.append method is deprecated and will be removed from pandas in a future version. Use pandas.concat instead.\n",
      "  vb_df = vb_df.append(new_entry, ignore_index=True)\n",
      "c:\\Users\\simia\\Documents\\MasterThesis\\MasterThesisGit\\utility.py:77: FutureWarning: The frame.append method is deprecated and will be removed from pandas in a future version. Use pandas.concat instead.\n",
      "  vb_df = vb_df.append(new_entry, ignore_index=True)\n",
      "c:\\Users\\simia\\Documents\\MasterThesis\\MasterThesisGit\\utility.py:77: FutureWarning: The frame.append method is deprecated and will be removed from pandas in a future version. Use pandas.concat instead.\n",
      "  vb_df = vb_df.append(new_entry, ignore_index=True)\n",
      "c:\\Users\\simia\\Documents\\MasterThesis\\MasterThesisGit\\utility.py:77: FutureWarning: The frame.append method is deprecated and will be removed from pandas in a future version. Use pandas.concat instead.\n",
      "  vb_df = vb_df.append(new_entry, ignore_index=True)\n",
      "c:\\Users\\simia\\Documents\\MasterThesis\\MasterThesisGit\\utility.py:77: FutureWarning: The frame.append method is deprecated and will be removed from pandas in a future version. Use pandas.concat instead.\n",
      "  vb_df = vb_df.append(new_entry, ignore_index=True)\n",
      "c:\\Users\\simia\\Documents\\MasterThesis\\MasterThesisGit\\utility.py:77: FutureWarning: The frame.append method is deprecated and will be removed from pandas in a future version. Use pandas.concat instead.\n",
      "  vb_df = vb_df.append(new_entry, ignore_index=True)\n",
      "c:\\Users\\simia\\Documents\\MasterThesis\\MasterThesisGit\\utility.py:77: FutureWarning: The frame.append method is deprecated and will be removed from pandas in a future version. Use pandas.concat instead.\n",
      "  vb_df = vb_df.append(new_entry, ignore_index=True)\n",
      "c:\\Users\\simia\\Documents\\MasterThesis\\MasterThesisGit\\utility.py:77: FutureWarning: The frame.append method is deprecated and will be removed from pandas in a future version. Use pandas.concat instead.\n",
      "  vb_df = vb_df.append(new_entry, ignore_index=True)\n",
      "c:\\Users\\simia\\Documents\\MasterThesis\\MasterThesisGit\\utility.py:77: FutureWarning: The frame.append method is deprecated and will be removed from pandas in a future version. Use pandas.concat instead.\n",
      "  vb_df = vb_df.append(new_entry, ignore_index=True)\n",
      "c:\\Users\\simia\\Documents\\MasterThesis\\MasterThesisGit\\utility.py:77: FutureWarning: The frame.append method is deprecated and will be removed from pandas in a future version. Use pandas.concat instead.\n",
      "  vb_df = vb_df.append(new_entry, ignore_index=True)\n",
      "c:\\Users\\simia\\Documents\\MasterThesis\\MasterThesisGit\\utility.py:77: FutureWarning: The frame.append method is deprecated and will be removed from pandas in a future version. Use pandas.concat instead.\n",
      "  vb_df = vb_df.append(new_entry, ignore_index=True)\n",
      "c:\\Users\\simia\\Documents\\MasterThesis\\MasterThesisGit\\utility.py:77: FutureWarning: The frame.append method is deprecated and will be removed from pandas in a future version. Use pandas.concat instead.\n",
      "  vb_df = vb_df.append(new_entry, ignore_index=True)\n",
      "c:\\Users\\simia\\Documents\\MasterThesis\\MasterThesisGit\\utility.py:77: FutureWarning: The frame.append method is deprecated and will be removed from pandas in a future version. Use pandas.concat instead.\n",
      "  vb_df = vb_df.append(new_entry, ignore_index=True)\n",
      "c:\\Users\\simia\\Documents\\MasterThesis\\MasterThesisGit\\utility.py:77: FutureWarning: The frame.append method is deprecated and will be removed from pandas in a future version. Use pandas.concat instead.\n",
      "  vb_df = vb_df.append(new_entry, ignore_index=True)\n",
      "c:\\Users\\simia\\Documents\\MasterThesis\\MasterThesisGit\\utility.py:77: FutureWarning: The frame.append method is deprecated and will be removed from pandas in a future version. Use pandas.concat instead.\n",
      "  vb_df = vb_df.append(new_entry, ignore_index=True)\n",
      "c:\\Users\\simia\\Documents\\MasterThesis\\MasterThesisGit\\utility.py:77: FutureWarning: The frame.append method is deprecated and will be removed from pandas in a future version. Use pandas.concat instead.\n",
      "  vb_df = vb_df.append(new_entry, ignore_index=True)\n",
      "c:\\Users\\simia\\Documents\\MasterThesis\\MasterThesisGit\\utility.py:77: FutureWarning: The frame.append method is deprecated and will be removed from pandas in a future version. Use pandas.concat instead.\n",
      "  vb_df = vb_df.append(new_entry, ignore_index=True)\n",
      "c:\\Users\\simia\\Documents\\MasterThesis\\MasterThesisGit\\utility.py:77: FutureWarning: The frame.append method is deprecated and will be removed from pandas in a future version. Use pandas.concat instead.\n",
      "  vb_df = vb_df.append(new_entry, ignore_index=True)\n",
      "c:\\Users\\simia\\Documents\\MasterThesis\\MasterThesisGit\\utility.py:77: FutureWarning: The frame.append method is deprecated and will be removed from pandas in a future version. Use pandas.concat instead.\n",
      "  vb_df = vb_df.append(new_entry, ignore_index=True)\n",
      "c:\\Users\\simia\\Documents\\MasterThesis\\MasterThesisGit\\utility.py:77: FutureWarning: The frame.append method is deprecated and will be removed from pandas in a future version. Use pandas.concat instead.\n",
      "  vb_df = vb_df.append(new_entry, ignore_index=True)\n",
      "c:\\Users\\simia\\Documents\\MasterThesis\\MasterThesisGit\\utility.py:77: FutureWarning: The frame.append method is deprecated and will be removed from pandas in a future version. Use pandas.concat instead.\n",
      "  vb_df = vb_df.append(new_entry, ignore_index=True)\n",
      "c:\\Users\\simia\\Documents\\MasterThesis\\MasterThesisGit\\utility.py:77: FutureWarning: The frame.append method is deprecated and will be removed from pandas in a future version. Use pandas.concat instead.\n",
      "  vb_df = vb_df.append(new_entry, ignore_index=True)\n",
      "c:\\Users\\simia\\Documents\\MasterThesis\\MasterThesisGit\\utility.py:77: FutureWarning: The frame.append method is deprecated and will be removed from pandas in a future version. Use pandas.concat instead.\n",
      "  vb_df = vb_df.append(new_entry, ignore_index=True)\n",
      "c:\\Users\\simia\\Documents\\MasterThesis\\MasterThesisGit\\utility.py:77: FutureWarning: The frame.append method is deprecated and will be removed from pandas in a future version. Use pandas.concat instead.\n",
      "  vb_df = vb_df.append(new_entry, ignore_index=True)\n",
      "c:\\Users\\simia\\Documents\\MasterThesis\\MasterThesisGit\\utility.py:77: FutureWarning: The frame.append method is deprecated and will be removed from pandas in a future version. Use pandas.concat instead.\n",
      "  vb_df = vb_df.append(new_entry, ignore_index=True)\n",
      "c:\\Users\\simia\\Documents\\MasterThesis\\MasterThesisGit\\utility.py:77: FutureWarning: The frame.append method is deprecated and will be removed from pandas in a future version. Use pandas.concat instead.\n",
      "  vb_df = vb_df.append(new_entry, ignore_index=True)\n",
      "c:\\Users\\simia\\Documents\\MasterThesis\\MasterThesisGit\\utility.py:77: FutureWarning: The frame.append method is deprecated and will be removed from pandas in a future version. Use pandas.concat instead.\n",
      "  vb_df = vb_df.append(new_entry, ignore_index=True)\n",
      "c:\\Users\\simia\\Documents\\MasterThesis\\MasterThesisGit\\utility.py:77: FutureWarning: The frame.append method is deprecated and will be removed from pandas in a future version. Use pandas.concat instead.\n",
      "  vb_df = vb_df.append(new_entry, ignore_index=True)\n",
      "c:\\Users\\simia\\Documents\\MasterThesis\\MasterThesisGit\\utility.py:77: FutureWarning: The frame.append method is deprecated and will be removed from pandas in a future version. Use pandas.concat instead.\n",
      "  vb_df = vb_df.append(new_entry, ignore_index=True)\n",
      "c:\\Users\\simia\\Documents\\MasterThesis\\MasterThesisGit\\utility.py:77: FutureWarning: The frame.append method is deprecated and will be removed from pandas in a future version. Use pandas.concat instead.\n",
      "  vb_df = vb_df.append(new_entry, ignore_index=True)\n",
      "c:\\Users\\simia\\Documents\\MasterThesis\\MasterThesisGit\\utility.py:77: FutureWarning: The frame.append method is deprecated and will be removed from pandas in a future version. Use pandas.concat instead.\n",
      "  vb_df = vb_df.append(new_entry, ignore_index=True)\n",
      "c:\\Users\\simia\\Documents\\MasterThesis\\MasterThesisGit\\utility.py:77: FutureWarning: The frame.append method is deprecated and will be removed from pandas in a future version. Use pandas.concat instead.\n",
      "  vb_df = vb_df.append(new_entry, ignore_index=True)\n",
      "c:\\Users\\simia\\Documents\\MasterThesis\\MasterThesisGit\\utility.py:77: FutureWarning: The frame.append method is deprecated and will be removed from pandas in a future version. Use pandas.concat instead.\n",
      "  vb_df = vb_df.append(new_entry, ignore_index=True)\n",
      "c:\\Users\\simia\\Documents\\MasterThesis\\MasterThesisGit\\utility.py:77: FutureWarning: The frame.append method is deprecated and will be removed from pandas in a future version. Use pandas.concat instead.\n",
      "  vb_df = vb_df.append(new_entry, ignore_index=True)\n",
      "c:\\Users\\simia\\Documents\\MasterThesis\\MasterThesisGit\\utility.py:77: FutureWarning: The frame.append method is deprecated and will be removed from pandas in a future version. Use pandas.concat instead.\n",
      "  vb_df = vb_df.append(new_entry, ignore_index=True)\n",
      "c:\\Users\\simia\\Documents\\MasterThesis\\MasterThesisGit\\utility.py:77: FutureWarning: The frame.append method is deprecated and will be removed from pandas in a future version. Use pandas.concat instead.\n",
      "  vb_df = vb_df.append(new_entry, ignore_index=True)\n",
      "c:\\Users\\simia\\Documents\\MasterThesis\\MasterThesisGit\\utility.py:77: FutureWarning: The frame.append method is deprecated and will be removed from pandas in a future version. Use pandas.concat instead.\n",
      "  vb_df = vb_df.append(new_entry, ignore_index=True)\n",
      "c:\\Users\\simia\\Documents\\MasterThesis\\MasterThesisGit\\utility.py:77: FutureWarning: The frame.append method is deprecated and will be removed from pandas in a future version. Use pandas.concat instead.\n",
      "  vb_df = vb_df.append(new_entry, ignore_index=True)\n",
      "c:\\Users\\simia\\Documents\\MasterThesis\\MasterThesisGit\\utility.py:77: FutureWarning: The frame.append method is deprecated and will be removed from pandas in a future version. Use pandas.concat instead.\n",
      "  vb_df = vb_df.append(new_entry, ignore_index=True)\n",
      "c:\\Users\\simia\\Documents\\MasterThesis\\MasterThesisGit\\utility.py:77: FutureWarning: The frame.append method is deprecated and will be removed from pandas in a future version. Use pandas.concat instead.\n",
      "  vb_df = vb_df.append(new_entry, ignore_index=True)\n",
      "c:\\Users\\simia\\Documents\\MasterThesis\\MasterThesisGit\\utility.py:77: FutureWarning: The frame.append method is deprecated and will be removed from pandas in a future version. Use pandas.concat instead.\n",
      "  vb_df = vb_df.append(new_entry, ignore_index=True)\n",
      "c:\\Users\\simia\\Documents\\MasterThesis\\MasterThesisGit\\utility.py:77: FutureWarning: The frame.append method is deprecated and will be removed from pandas in a future version. Use pandas.concat instead.\n",
      "  vb_df = vb_df.append(new_entry, ignore_index=True)\n",
      "c:\\Users\\simia\\Documents\\MasterThesis\\MasterThesisGit\\utility.py:77: FutureWarning: The frame.append method is deprecated and will be removed from pandas in a future version. Use pandas.concat instead.\n",
      "  vb_df = vb_df.append(new_entry, ignore_index=True)\n",
      "c:\\Users\\simia\\Documents\\MasterThesis\\MasterThesisGit\\utility.py:77: FutureWarning: The frame.append method is deprecated and will be removed from pandas in a future version. Use pandas.concat instead.\n",
      "  vb_df = vb_df.append(new_entry, ignore_index=True)\n",
      "c:\\Users\\simia\\Documents\\MasterThesis\\MasterThesisGit\\utility.py:77: FutureWarning: The frame.append method is deprecated and will be removed from pandas in a future version. Use pandas.concat instead.\n",
      "  vb_df = vb_df.append(new_entry, ignore_index=True)\n",
      "c:\\Users\\simia\\Documents\\MasterThesis\\MasterThesisGit\\utility.py:77: FutureWarning: The frame.append method is deprecated and will be removed from pandas in a future version. Use pandas.concat instead.\n",
      "  vb_df = vb_df.append(new_entry, ignore_index=True)\n",
      "c:\\Users\\simia\\Documents\\MasterThesis\\MasterThesisGit\\utility.py:77: FutureWarning: The frame.append method is deprecated and will be removed from pandas in a future version. Use pandas.concat instead.\n",
      "  vb_df = vb_df.append(new_entry, ignore_index=True)\n",
      "c:\\Users\\simia\\Documents\\MasterThesis\\MasterThesisGit\\utility.py:77: FutureWarning: The frame.append method is deprecated and will be removed from pandas in a future version. Use pandas.concat instead.\n",
      "  vb_df = vb_df.append(new_entry, ignore_index=True)\n",
      "c:\\Users\\simia\\Documents\\MasterThesis\\MasterThesisGit\\utility.py:77: FutureWarning: The frame.append method is deprecated and will be removed from pandas in a future version. Use pandas.concat instead.\n",
      "  vb_df = vb_df.append(new_entry, ignore_index=True)\n",
      "c:\\Users\\simia\\Documents\\MasterThesis\\MasterThesisGit\\utility.py:77: FutureWarning: The frame.append method is deprecated and will be removed from pandas in a future version. Use pandas.concat instead.\n",
      "  vb_df = vb_df.append(new_entry, ignore_index=True)\n",
      "c:\\Users\\simia\\Documents\\MasterThesis\\MasterThesisGit\\utility.py:77: FutureWarning: The frame.append method is deprecated and will be removed from pandas in a future version. Use pandas.concat instead.\n",
      "  vb_df = vb_df.append(new_entry, ignore_index=True)\n",
      "c:\\Users\\simia\\Documents\\MasterThesis\\MasterThesisGit\\utility.py:77: FutureWarning: The frame.append method is deprecated and will be removed from pandas in a future version. Use pandas.concat instead.\n",
      "  vb_df = vb_df.append(new_entry, ignore_index=True)\n",
      "c:\\Users\\simia\\Documents\\MasterThesis\\MasterThesisGit\\utility.py:77: FutureWarning: The frame.append method is deprecated and will be removed from pandas in a future version. Use pandas.concat instead.\n",
      "  vb_df = vb_df.append(new_entry, ignore_index=True)\n",
      "c:\\Users\\simia\\Documents\\MasterThesis\\MasterThesisGit\\utility.py:77: FutureWarning: The frame.append method is deprecated and will be removed from pandas in a future version. Use pandas.concat instead.\n",
      "  vb_df = vb_df.append(new_entry, ignore_index=True)\n",
      "c:\\Users\\simia\\Documents\\MasterThesis\\MasterThesisGit\\utility.py:77: FutureWarning: The frame.append method is deprecated and will be removed from pandas in a future version. Use pandas.concat instead.\n",
      "  vb_df = vb_df.append(new_entry, ignore_index=True)\n",
      "c:\\Users\\simia\\Documents\\MasterThesis\\MasterThesisGit\\utility.py:77: FutureWarning: The frame.append method is deprecated and will be removed from pandas in a future version. Use pandas.concat instead.\n",
      "  vb_df = vb_df.append(new_entry, ignore_index=True)\n"
     ]
    },
    {
     "data": {
      "text/plain": [
       "<Figure size 720x720 with 0 Axes>"
      ]
     },
     "metadata": {},
     "output_type": "display_data"
    },
    {
     "data": {
      "text/plain": [
       "<Figure size 720x720 with 0 Axes>"
      ]
     },
     "metadata": {},
     "output_type": "display_data"
    },
    {
     "data": {
      "text/plain": [
       "<Figure size 1656x720 with 0 Axes>"
      ]
     },
     "metadata": {},
     "output_type": "display_data"
    },
    {
     "data": {
      "text/plain": [
       "<Figure size 720x720 with 0 Axes>"
      ]
     },
     "metadata": {},
     "output_type": "display_data"
    },
    {
     "data": {
      "text/plain": [
       "<Figure size 720x720 with 0 Axes>"
      ]
     },
     "metadata": {},
     "output_type": "display_data"
    }
   ],
   "source": [
    "plt_directory = \"plots/\"+from_who+\"_\"+\"_\".join(k+\"=\"+str(params[k]) for k in ['C', 'kernel'])+\"/\"\n",
    "create_directory(plt_directory)\n",
    "plotter = Plotter(plt_directory, subjects_ids)\n",
    "plotter.plot_cv_score_with_points(cv_df, chance_level = True)"
   ]
  },
  {
   "cell_type": "code",
   "execution_count": 18,
   "metadata": {
    "collapsed": false,
    "pycharm": {
     "is_executing": true,
     "name": "#%%\n"
    }
   },
   "outputs": [
    {
     "name": "stderr",
     "output_type": "stream",
     "text": [
      "No handles with labels found to put in legend.\n",
      "No handles with labels found to put in legend.\n",
      "No handles with labels found to put in legend.\n",
      "No handles with labels found to put in legend.\n",
      "No handles with labels found to put in legend.\n",
      "No handles with labels found to put in legend.\n",
      "No handles with labels found to put in legend.\n",
      "No handles with labels found to put in legend.\n",
      "No handles with labels found to put in legend.\n",
      "No handles with labels found to put in legend.\n",
      "No handles with labels found to put in legend.\n",
      "No handles with labels found to put in legend.\n",
      "No handles with labels found to put in legend.\n",
      "No handles with labels found to put in legend.\n",
      "No handles with labels found to put in legend.\n",
      "No handles with labels found to put in legend.\n",
      "No handles with labels found to put in legend.\n",
      "No handles with labels found to put in legend.\n",
      "No handles with labels found to put in legend.\n",
      "No handles with labels found to put in legend.\n",
      "No handles with labels found to put in legend.\n",
      "No handles with labels found to put in legend.\n",
      "No handles with labels found to put in legend.\n",
      "No handles with labels found to put in legend.\n"
     ]
    }
   ],
   "source": [
    "plotter.plot_bootstrap(bootstrap_df, cv_group_df, pvals, 30)\n",
    "group_cfm = compute_group_confusion_matrix(cfm_df, subjects_ids)\n",
    "plotter.plot_group_confusion_matrix(group_cfm, classes)"
   ]
  }
 ],
 "metadata": {
  "interpreter": {
   "hash": "2db524e06e9f5f4ffedc911c917cb75e12dbc923643829bf417064a77eb14d37"
  },
  "kernelspec": {
   "display_name": "Python 3.8.6 64-bit",
   "language": "python",
   "name": "python3"
  },
  "language_info": {
   "codemirror_mode": {
    "name": "ipython",
    "version": 3
   },
   "file_extension": ".py",
   "mimetype": "text/x-python",
   "name": "python",
   "nbconvert_exporter": "python",
   "pygments_lexer": "ipython3",
   "version": "3.8.6"
  },
  "orig_nbformat": 4
 },
 "nbformat": 4,
 "nbformat_minor": 2
}
