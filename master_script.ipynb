{
 "cells": [
  {
   "cell_type": "markdown",
   "metadata": {},
   "source": [
    "# Imports and Constants"
   ]
  },
  {
   "cell_type": "code",
   "execution_count": null,
   "metadata": {
    "pycharm": {
     "is_executing": true
    }
   },
   "outputs": [],
   "source": [
    "import matplotlib.pyplot as plt\n",
    "import numpy as np\n",
    "import pandas as pd\n",
    "import sklearn\n",
    "from sklearn.pipeline import Pipeline\n",
    "import random\n",
    "import os\n",
    "\n",
    "from savingOutputs import *\n",
    "from loadData import *\n",
    "from masks import *\n",
    "from decoding import *\n",
    "from plots import *\n",
    "from utility import *"
   ]
  },
  {
   "cell_type": "code",
   "execution_count": 2,
   "metadata": {},
   "outputs": [],
   "source": [
    "SEED = 0\n",
    "random.seed(SEED)\n",
    "classes = ['Up', 'Down', 'Right', 'Left']\n",
    "nb_runs = 12\n",
    "length = nb_runs * len(classes)\n",
    "subjects_ids = range(1, 24)  # TODO modify this to get all subjects (here we only have 1 for the example)\n",
    "n_subjects = len(subjects_ids)\n",
    "n_perms = 1000\n",
    "class_labels = [\"\"] * (2 * length)\n",
    "for i in range(length * 2):\n",
    "    class_labels[i] = classes[(i // nb_runs) % len(classes)]\n",
    "labels = dict()\n",
    "labels[\"vis\"] = np.array(class_labels[:length])\n",
    "labels[\"aud\"] = np.array(class_labels[length:])\n",
    "labels_same = labels[\"vis\"]\n",
    "\n",
    "classical_tasks_regions = [([\"vis\"], [\"V5_R\", \"V5_L\"]),\n",
    "                           ([\"aud\"], [\"PT_R\", \"PT_L\"]),\n",
    "                           ([\"aud\"], [\"V5_R\", \"V5_L\"])]\n",
    "\n",
    "cross_modal_task_regions = [([\"vis\", \"aud\"], [\"V5_R\", \"V5_L\"])]\n",
    "\n",
    "scaler = sklearn.preprocessing.StandardScaler()\n",
    "classifier = sklearn.svm.SVC(C = 1, kernel = 'linear', random_state=SEED)  # other parameters are default parameters\n",
    "pipeline = Pipeline([('std', scaler), ('svm', classifier)])\n",
    "decoder = Decoder(n_perm=n_perms, model=pipeline, n_classes=len(classes), n_splits=nb_runs, seed=SEED)\n",
    "_ = decoder.return_and_reset_predictions(classes)"
   ]
  },
  {
   "cell_type": "markdown",
   "metadata": {},
   "source": [
    "# Loading data"
   ]
  },
  {
   "cell_type": "code",
   "execution_count": 3,
   "metadata": {},
   "outputs": [],
   "source": [
    "scores_perms = [dict() for _ in subjects_ids]\n",
    "maps_masked = [dict() for _ in subjects_ids]"
   ]
  },
  {
   "cell_type": "code",
   "execution_count": 4,
   "metadata": {},
   "outputs": [],
   "source": [
    "for i, subj_id in enumerate(subjects_ids):\n",
    "    t_maps, beta_maps = get_maps([subj_id])\n",
    "    masks = get_masks([subj_id], plot=False)\n",
    "    maps = apply_mask_to_maps(t_maps, masks)\n",
    "    maps_masked[i][\"vis\"] = get_part_of_maps(maps, 0, length)  # maps acquired for the vision experiment\n",
    "    maps_masked[i][\"aud\"] = get_part_of_maps(maps, length, 2 * length)  # maps acquired for the audition experiment\n",
    "    del t_maps ; del beta_maps ; del masks  # to relieve memory"
   ]
  },
  {
   "cell_type": "markdown",
   "metadata": {
    "collapsed": false
   },
   "source": [
    "# Within-modality decoding"
   ]
  },
  {
   "cell_type": "code",
   "execution_count": null,
   "metadata": {
    "pycharm": {
     "is_executing": true
    }
   },
   "outputs": [],
   "source": [
    "cv_scores = [dict() for _ in subjects_ids]\n",
    "p_values = [dict() for _ in subjects_ids]\n",
    "for i, subj_id in enumerate(subjects_ids):\n",
    "    # within-modality decoding : training on a task and decoding on other samples from same task\n",
    "    for tasks, regions in classical_tasks_regions:\n",
    "        cv_sc, p_val, scores_perm = decoder.classify_tasks_regions(maps_masked[i], labels, tasks, regions,do_pval=False)\n",
    "        cv_scores[i].update(cv_sc)\n",
    "        p_values[i].update(p_val)\n",
    "        scores_perms[i].update(scores_perm)\n",
    "    # print(\"Within-modality decoding done for subject \"+str(subj_id)+\"/\"+str(n_subjects))"
   ]
  },
  {
   "cell_type": "code",
   "execution_count": 6,
   "metadata": {
    "collapsed": false,
    "pycharm": {
     "name": "#%%\n"
    }
   },
   "outputs": [],
   "source": [
    "# Compute groups results\n",
    "within_modality_group_results = average_dicos(cv_scores)\n",
    "within_modality_p_values = average_dicos(p_values)\n",
    "within_modality_predictions = decoder.return_and_reset_predictions(classes)"
   ]
  },
  {
   "cell_type": "markdown",
   "metadata": {
    "collapsed": false
   },
   "source": [
    "# Cross-modal decoding"
   ]
  },
  {
   "cell_type": "code",
   "execution_count": null,
   "metadata": {
    "collapsed": false,
    "pycharm": {
     "name": "#%%\n",
     "is_executing": true
    }
   },
   "outputs": [],
   "source": [
    "cv_scores = [dict() for _ in subjects_ids]\n",
    "#p_values = [dict() for _ in subjects_ids]\n",
    "for i, subj_id in enumerate(subjects_ids):\n",
    "    # cross-modal decoding : training on a task and decoding on samples from another task\n",
    "    for tasks, regions in cross_modal_task_regions:\n",
    "        scores_cross_mod = decoder.cross_modal_decoding(maps_masked[i], labels, tasks, regions)\n",
    "        cv_scores[i].update(scores_cross_mod)\n",
    "\n",
    "    # print(\"Cross-modal decoding done for subject \"+str(subj_id)+\"/\"+str(n_subjects))"
   ]
  },
  {
   "cell_type": "code",
   "execution_count": 9,
   "metadata": {
    "collapsed": false,
    "pycharm": {
     "name": "#%%\n"
    }
   },
   "outputs": [],
   "source": [
    "# Compute groups results\n",
    "cross_modality_group_results = average_dicos(cv_scores)\n",
    "cross_modality_p_values = average_dicos(p_values)\n",
    "cross_modality_predictions = decoder.return_and_reset_predictions(classes)"
   ]
  },
  {
   "cell_type": "markdown",
   "metadata": {
    "collapsed": false
   },
   "source": [
    "# Bootstrapping to assess group-level significance"
   ]
  },
  {
   "cell_type": "code",
   "execution_count": 9,
   "metadata": {
    "collapsed": false,
    "pycharm": {
     "name": "#%%\n"
    }
   },
   "outputs": [],
   "source": [
    "n_single_perm = 100\n",
    "n_bootstrap = 100_000"
   ]
  },
  {
   "cell_type": "code",
   "execution_count": null,
   "metadata": {
    "collapsed": false,
    "pycharm": {
     "name": "#%%\n",
     "is_executing": true
    }
   },
   "outputs": [],
   "source": [
    "within_scores_100_perm = decoder.score_bootstrapped_permutations(n_single_perm, labels_same,classical_tasks_regions,maps_masked,n_subjects, within_modality=True)\n",
    "bootstrapped_distribution_within = compute_bootstrap_distribution(n_bootstrap, n_subjects, within_scores_100_perm, n_single_perm)"
   ]
  },
  {
   "cell_type": "code",
   "execution_count": null,
   "metadata": {
    "collapsed": false,
    "pycharm": {
     "name": "#%%\n",
     "is_executing": true
    }
   },
   "outputs": [],
   "source": [
    "cross_scores_100_perm = decoder.score_bootstrapped_permutations(100, labels_same,cross_modal_task_regions,maps_masked,n_subjects, within_modality=False)\n",
    "bootstrapped_distribution_cross = compute_bootstrap_distribution(n_bootstrap, n_subjects, cross_scores_100_perm, n_single_perm)"
   ]
  },
  {
   "cell_type": "markdown",
   "metadata": {},
   "source": [
    "# Saving results"
   ]
  },
  {
   "cell_type": "code",
   "execution_count": 12,
   "metadata": {},
   "outputs": [],
   "source": [
    "create_directory(\"out\")\n",
    "save_dicts(\"cv_scores.csv\", cv_scores, list(cv_scores[0].keys()), subjects_ids)\n",
    "save_dicts(\"p_values.csv\", p_values, list(p_values[0].keys()), subjects_ids)\n",
    "save_dicts_perms(\"scores_perms.csv\", scores_perms, subjects_ids)\n",
    "save_dicts(\"group_scores_within.csv\", [within_modality_group_results], list(within_modality_group_results.keys()), [0])\n",
    "save_dicts(\"group_scores_cross.csv\", [cross_modality_group_results], list(cross_modality_group_results.keys()), [0])"
   ]
  },
  {
   "cell_type": "code",
   "execution_count": 13,
   "metadata": {
    "collapsed": false,
    "pycharm": {
     "name": "#%%\n"
    }
   },
   "outputs": [],
   "source": [
    "save_dicts(\"bootstraps_within.csv\", [average_dicos(bootstrapped_distribution_within)], list(bootstrapped_distribution_within[0].keys()), [0])\n",
    "save_dicts(\"bootstraps_cross.csv\", [average_dicos(bootstrapped_distribution_cross)], list(bootstrapped_distribution_cross[0].keys()), [0])"
   ]
  },
  {
   "cell_type": "markdown",
   "metadata": {},
   "source": [
    "# Plotting results (from files of saved results)"
   ]
  },
  {
   "cell_type": "code",
   "execution_count": 15,
   "metadata": {
    "pycharm": {
     "name": "#%%\n"
    }
   },
   "outputs": [],
   "source": [
    "plt_directory = \"plots\"\n",
    "create_directory(plt_directory)\n",
    "\n",
    "cv_within_df = pd.read_csv(\"out/group_scores_within.csv\", index_col=0)\n",
    "cv_cross_df = pd.read_csv(\"out/group_scores_cross.csv\", index_col=0)\n",
    "for col in cv_cross_df.columns: cv_within_df[col] = cv_cross_df[col]\n",
    "\n",
    "bootstrap_within_df = pd.read_csv(\"out/bootstraps_within.csv\", index_col=0)\n",
    "bootstrap_cross_df = pd.read_csv(\"out/bootstraps_cross.csv\", index_col=0)\n",
    "for col in bootstrap_cross_df.columns: bootstrap_within_df[col] = bootstrap_cross_df[col]\n",
    "#pv_df = pd.read_csv(\"out/p_values.csv\", index_col=0)\n",
    "perm_df = pd.read_csv(\"out/scores_perms.csv\", index_col=0)\n",
    "\n",
    "plotter = Plotter(plt_directory, subjects_ids)\n",
    "plotter.plot_cv_pval(cv_within_df, \"cv score\", plotter.cv_scores_dir, chance_level = True)\n",
    "plotter.plot_cv_pval(bootstrap_within_df, \"bootstrap\", plotter.bootstrap_dir, chance_level = True)\n",
    "#plotter.plot_cv_pval(pv_df, \"p-value\", plotter.p_values_dir)\n",
    "plotter.plot_perms_scores(perm_df, n_perms)"
   ]
  },
  {
   "cell_type": "code",
   "execution_count": null,
   "metadata": {
    "collapsed": false,
    "pycharm": {
     "name": "#%%\n"
    }
   },
   "outputs": [],
   "source": [
    "# group-level results\n",
    "# TODO"
   ]
  },
  {
   "cell_type": "markdown",
   "metadata": {
    "collapsed": false
   },
   "source": [
    "# Visualizing differences between audition and vision in the voxels of a ROI (TO BE DELETED)"
   ]
  },
  {
   "cell_type": "code",
   "execution_count": null,
   "metadata": {
    "collapsed": false,
    "pycharm": {
     "name": "#%%\n",
     "is_executing": true
    }
   },
   "outputs": [],
   "source": [
    "region = \"V5_R\"\n",
    "colors = [\"red\",\"tomato\",\"coral\",\"orange\",\"deepskyblue\",\"cyan\",\"blue\",\"royalblue\"]\n",
    "n_voxels = maps_masked[0][\"vis\"][0][region].shape[1]\n",
    "mean_aud = dict()\n",
    "mean_vis = dict()\n",
    "\n",
    "for cla in classes :\n",
    "    mean_aud[cla] = np.zeros(n_voxels)\n",
    "    mean_vis[cla] = np.zeros(n_voxels)\n",
    "\n",
    "\n",
    "for i in range(n_subjects):\n",
    "    for j, cla in enumerate(classes) :\n",
    "        mean_vis[cla] += np.mean(maps_masked[i][\"vis\"][0][region][j*12:(j+1)*12],axis=0)/n_subjects\n",
    "        mean_aud[cla] += np.mean(maps_masked[i][\"aud\"][0][region][j*12:(j+1)*12],axis=0)/n_subjects\n",
    "\n",
    "plt.rcParams.update({'font.size': 15})\n",
    "plt.figure(figsize=(12,8))\n",
    "\n",
    "idx = 0\n",
    "for cla in classes :\n",
    "    plt.plot(range(n_voxels), mean_vis[cla], label = \"vis - \"+cla, color = colors[idx])\n",
    "    idx += 1\n",
    "\n",
    "for cla in classes :\n",
    "    plt.plot(range(n_voxels), mean_aud[cla], label = \"aud - \"+cla, color = colors[idx])\n",
    "    idx += 1\n",
    "\n",
    "plt.xlabel(\"voxel id\")\n",
    "plt.ylabel(\"intensity\")\n",
    "plt.title(\"Average voxel intensities for right V5\")\n",
    "plt.legend()\n",
    "plt.savefig(\"plots/why_normalize_cross_modal.png\")"
   ]
  }
 ],
 "metadata": {
  "interpreter": {
   "hash": "2db524e06e9f5f4ffedc911c917cb75e12dbc923643829bf417064a77eb14d37"
  },
  "kernelspec": {
   "display_name": "Python 3.8.6 64-bit",
   "language": "python",
   "name": "python3"
  },
  "language_info": {
   "codemirror_mode": {
    "name": "ipython",
    "version": 3
   },
   "file_extension": ".py",
   "mimetype": "text/x-python",
   "name": "python",
   "nbconvert_exporter": "python",
   "pygments_lexer": "ipython3",
   "version": "3.8.6"
  },
  "orig_nbformat": 4
 },
 "nbformat": 4,
 "nbformat_minor": 2
}