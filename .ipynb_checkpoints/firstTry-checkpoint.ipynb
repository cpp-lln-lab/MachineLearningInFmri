{
 "cells": [
  {
   "cell_type": "markdown",
   "metadata": {},
   "source": [
    "## Imports"
   ]
  },
  {
   "cell_type": "code",
   "execution_count": 4,
   "metadata": {},
   "outputs": [],
   "source": [
    "import numpy as np\n",
    "import pandas as pd\n",
    "import sklearn\n",
    "from nilearn.masking import apply_mask\n",
    "from nilearn import image"
   ]
  },
  {
   "cell_type": "markdown",
   "metadata": {},
   "source": [
    "## Loading data"
   ]
  },
  {
   "cell_type": "code",
   "execution_count": 13,
   "metadata": {},
   "outputs": [],
   "source": [
    "nb_subjects = 2\n",
    "classes = ['vis_U','vis_D','vis_R','vis_L','aud_U','aud_D','aud_R','aud_L']\n",
    "masks_names = ['vis_R','vis_L','aud_R','aud_L']\n",
    "\n",
    "t_maps = [None]*nb_subjects\n",
    "beta_maps = [None]*nb_subjects\n",
    "X_all = [None]*nb_subjects\n",
    "masks = [dict()]*nb_subjects\n",
    "\n",
    "for i in range(nb_subjects):# sub1_4D_t_maps_0\n",
    "    t_maps[i]=image.load_img(\"brain_maps/sub\"+str(i+1)+\"_4D_t_maps_0.nii\")\n",
    "    beta_maps[i]=image.load_img(\"brain_maps/sub\"+str(i+1)+\"_4D_beta_0.nii\")\n",
    "    for name in masks_names:\n",
    "        masks[i][name]=image.load_img(\"masks/ROI_sub\"+str(i+1)+\"_\"+name+\".nii\")\n",
    "    \n"
   ]
  }
 ],
 "metadata": {
  "celltoolbar": "Format de la Cellule Texte Brut",
  "kernelspec": {
   "display_name": "Python 3",
   "language": "python",
   "name": "python3"
  },
  "language_info": {
   "codemirror_mode": {
    "name": "ipython",
    "version": 3
   },
   "file_extension": ".py",
   "mimetype": "text/x-python",
   "name": "python",
   "nbconvert_exporter": "python",
   "pygments_lexer": "ipython3",
   "version": "3.8.3"
  }
 },
 "nbformat": 4,
 "nbformat_minor": 4
}
