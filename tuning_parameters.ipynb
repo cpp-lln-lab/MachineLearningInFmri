{
 "cells": [
  {
   "cell_type": "markdown",
   "metadata": {},
   "source": [
    "# Imports and Constants"
   ]
  },
  {
   "cell_type": "code",
   "execution_count": 10,
   "metadata": {},
   "outputs": [],
   "source": [
    "import math\n",
    "import matplotlib.pyplot as plt\n",
    "import numpy as np\n",
    "import pandas as pd\n",
    "import sklearn\n",
    "from sklearn.pipeline import Pipeline\n",
    "\n",
    "from savingOutputs import *\n",
    "from loadData import *\n",
    "from masks import *\n",
    "from decoding import *\n",
    "from plots import *\n",
    "from utility import *\n",
    "from metrics import *\n",
    "\n",
    "\n",
    "SEED = 0\n",
    "random.seed(SEED)\n",
    "classes = ['Up', 'Down', 'Right', 'Left']\n",
    "nb_runs = 12\n",
    "length_one_modality = nb_runs * len(classes)\n",
    "subjects_ids = range(1, 24)\n",
    "n_subjects = len(subjects_ids)\n",
    "n_individual_perms = 1000\n",
    "labels = {'vis' : np.array(classes*nb_runs), 'aud' : np.array(classes*nb_runs)}\n",
    "labels_same = np.array(classes*nb_runs)\n",
    "\n",
    "within_modal_tasks_regions = [([\"vis\"], [\"V5_L\", \"V5_R\"]),\n",
    "                              ([\"vis\"], [\"PT_L\", \"PT_R\"]),\n",
    "                              ([\"aud\"], [\"V5_L\", \"V5_R\"]),\n",
    "                              ([\"aud\"], [\"PT_L\", \"PT_R\"])]\n",
    "\n",
    "cross_modal_tasks_regions = [([\"vis\", \"aud\"], [\"V5_L\", \"V5_R\"]),\n",
    "                             ([\"vis\", \"aud\"], [\"PT_L\", \"PT_R\"])]"
   ]
  },
  {
   "cell_type": "markdown",
   "metadata": {},
   "source": [
    "# Analyses"
   ]
  },
  {
   "cell_type": "code",
   "execution_count": 11,
   "outputs": [],
   "source": [
    "from_who = \"our\"   # 2 possibilities : \"mohameds\" or \"our\"\n",
    "voxel_size = \"3\"\n",
    "#radius_mask = \"7\"\n",
    "radiuses = range(5,12)\n",
    "maps_folder=\"brain_maps/\"+from_who+\"_maps\"+\"_\"+voxel_size\n",
    "#masks_folder=\"masks/\"+from_who+\"_masks\"+\"_\"+voxel_size+\"_radius=\"+radius_mask\n",
    "\n",
    "scaler = sklearn.preprocessing.StandardScaler()\n",
    "classifier = sklearn.svm.SVC(C = 1, kernel = \"linear\", random_state=SEED)\n",
    "pipeline = Pipeline([('std_scaler', scaler), ('svm', classifier)])"
   ],
   "metadata": {
    "collapsed": false,
    "pycharm": {
     "name": "#%%\n"
    }
   }
  },
  {
   "cell_type": "code",
   "execution_count": null,
   "metadata": {
    "collapsed": false,
    "pycharm": {
     "name": "#%%\n",
     "is_executing": true
    }
   },
   "outputs": [
    {
     "name": "stdout",
     "output_type": "stream",
     "text": [
      "1/7 iterations done in 41.28396248817444 seconds\n"
     ]
    }
   ],
   "source": [
    "acc_group_combination = dict()\n",
    "start_time = time.time()\n",
    "for i, radius in enumerate(radiuses) :\n",
    "    masks_folder=\"masks/\"+from_who+\"_masks\"+\"_\"+str(voxel_size)+\"_radius=\"+str(radius)\n",
    "    maps_masked, masks_exist = load_full_data(subjects_ids, len(classes), nb_runs, maps_folder, masks_folder, is_from_mohamed=(from_who==\"mohameds\"))\n",
    "\n",
    "    decoder = Decoder(n_perm=n_individual_perms, model=pipeline, n_classes=len(classes), n_splits=nb_runs, seed=SEED)\n",
    "    decoder.set_masks_exist(masks_exist)\n",
    "\n",
    "    # launch analyses\n",
    "    confusion_matrixes_within = decoder.within_modality_decoding(maps_masked, labels, subjects_ids, within_modal_tasks_regions)\n",
    "    group_confusion_matrixes_within = average_dicos(confusion_matrixes_within)\n",
    "\n",
    "    confusion_matrixes_cross = decoder.cross_modality_decoding(maps_masked, labels, subjects_ids, cross_modal_tasks_regions)\n",
    "    group_confusion_matrixes_cross = average_dicos(confusion_matrixes_cross)\n",
    "\n",
    "    # saving results\n",
    "    params = classifier.get_params()\n",
    "    out_directory = \"out/\"+from_who+\"_\"+str(voxel_size)+\"_radius=\"+str(radius)+\"_\"+str(classifier)+\"/\"\n",
    "    create_directory(out_directory)\n",
    "\n",
    "    save_dicts(out_directory + \"confusion_matrixes_within.csv\", confusion_matrixes_within,\n",
    "               list(confusion_matrixes_within[0].keys()), subjects_ids)\n",
    "    acc_within = compute_metric(out_directory, subjects_ids, {'name' : 'accuracy', 'function':accuracy}, \"within\", masks_exist, len(classes), ret = True)\n",
    "\n",
    "    save_dicts(out_directory + \"confusion_matrixes_cross.csv\", confusion_matrixes_cross,\n",
    "               list(confusion_matrixes_cross[0].keys()), subjects_ids)\n",
    "    acc_cross = compute_metric(out_directory, subjects_ids, {'name' : 'cross', 'function':accuracy}, \"within\", masks_exist, len(classes), ret = True)\n",
    "\n",
    "    within_modality_group_results = average_dicos(acc_within)\n",
    "    save_dicts(out_directory + \"group_scores_within.csv\", [within_modality_group_results],\n",
    "               list(within_modality_group_results.keys()), [0])\n",
    "    acc_group_combination[radius] = within_modality_group_results\n",
    "\n",
    "    cross_modality_group_results = average_dicos(acc_cross)\n",
    "    save_dicts(out_directory + \"group_scores_cross.csv\", [cross_modality_group_results],\n",
    "               list(cross_modality_group_results.keys()), [0])\n",
    "    acc_group_combination[radius].update(cross_modality_group_results)\n",
    "\n",
    "\n",
    "    duration = time.time()-start_time\n",
    "    print(str(i+1)+\"/\"+str(len(radiuses))+\" iterations done in \"+str(duration)+\" seconds\")"
   ]
  },
  {
   "cell_type": "markdown",
   "source": [
    "# Plot scores depending on parameters"
   ],
   "metadata": {
    "collapsed": false
   }
  },
  {
   "cell_type": "code",
   "execution_count": null,
   "outputs": [],
   "source": [
    "import math\n",
    "plt_directory = \"plots/\"+from_who+\"_\"+voxel_size+\"_radiuses_\"+str(classifier)+\"/\"\n",
    "create_directory(plt_directory)\n",
    "plotter = Plotter(plt_directory, subjects_ids)\n",
    "\n",
    "#n_analyses = len(list(acc_group_combination[\"linear\"][0].keys()))\n",
    "#fig, axs = plt.subplots(nrows=math.ceil(n_analyses/2),ncols=2,figsize=(15,25))\n",
    "\n",
    "for i, analysis in enumerate(acc_group_combination[5]):\n",
    "    # faire le plot\n",
    "    scores = [acc_group_combination[radius][analysis] for radius in radiuses]\n",
    "    plt.plot(radiuses, scores)\n",
    "    plt.axhline(0.25, color=\"gray\", alpha=0.5)\n",
    "    plotter.save(analysis+\" - accuracy depending on ROI radius\",\"\",\"mean accuracy\",\"radius [mm]\",legend=\"out\")\n",
    "\n",
    "#plt.suptitle(\"Accuracy depending on C and kernel of SVM\",fontsize=24)\n",
    "#plotter.save(analysis,\"\",\"mean accuracy\",\"log10(C)\",legend=\"best\")"
   ],
   "metadata": {
    "collapsed": false,
    "pycharm": {
     "name": "#%%\n"
    }
   }
  }
 ],
 "metadata": {
  "interpreter": {
   "hash": "2db524e06e9f5f4ffedc911c917cb75e12dbc923643829bf417064a77eb14d37"
  },
  "kernelspec": {
   "display_name": "Python 3.8.6 64-bit",
   "language": "python",
   "name": "python3"
  },
  "language_info": {
   "codemirror_mode": {
    "name": "ipython",
    "version": 3
   },
   "file_extension": ".py",
   "mimetype": "text/x-python",
   "name": "python",
   "nbconvert_exporter": "python",
   "pygments_lexer": "ipython3",
   "version": "3.8.6"
  },
  "orig_nbformat": 4
 },
 "nbformat": 4,
 "nbformat_minor": 2
}