{
 "cells": [
  {
   "cell_type": "markdown",
   "metadata": {},
   "source": [
    "# Imports and Constants"
   ]
  },
  {
   "cell_type": "code",
   "execution_count": null,
   "metadata": {
    "pycharm": {
     "is_executing": true
    }
   },
   "outputs": [],
   "source": [
    "import matplotlib.pyplot as plt\n",
    "import numpy as np\n",
    "import pandas as pd\n",
    "import sklearn\n",
    "from sklearn.pipeline import Pipeline\n",
    "import random\n",
    "import os\n",
    "from math import log10\n",
    "\n",
    "from savingOutputs import *\n",
    "from loadData import *\n",
    "from masks import *\n",
    "from decoding import *\n",
    "from plots import *\n",
    "from utility import *\n",
    "from metrics import *\n",
    "\n",
    "\n",
    "from_who = \"our\"   # 2 possibilities : \"mohameds\" or \"our\"\n",
    "maps_folder=\"brain_maps/\"+from_who+\"_maps\"\n",
    "masks_folder=\"masks/\"+from_who+\"_masks\"\n",
    "\n",
    "SEED = 0\n",
    "random.seed(SEED)\n",
    "classes = ['Up', 'Down', 'Right', 'Left']\n",
    "nb_runs = 12\n",
    "length_one_modality = nb_runs * len(classes)\n",
    "subjects_ids = range(1, 24)\n",
    "n_subjects = len(subjects_ids)\n",
    "n_individual_perms = 1000\n",
    "class_labels = [\"\"] * (2 * length_one_modality)\n",
    "for i in range(length_one_modality * 2):\n",
    "    class_labels[i] = classes[(i // nb_runs) % len(classes)]\n",
    "labels = dict()\n",
    "labels[\"vis\"] = np.array(class_labels[:length_one_modality])\n",
    "labels[\"aud\"] = np.array(class_labels[length_one_modality:])\n",
    "labels_same = labels[\"vis\"]\n",
    "\n",
    "within_modal_tasks_regions = [([\"vis\"], [\"V5_L\", \"V5_R\"]),\n",
    "                              ([\"vis\"], [\"PT_L\", \"PT_R\"]),\n",
    "                              ([\"aud\"], [\"V5_L\", \"V5_R\"]),\n",
    "                              ([\"aud\"], [\"PT_L\", \"PT_R\"])]\n",
    "\n",
    "cross_modal_tasks_regions = [([\"vis\", \"aud\"], [\"V5_L\", \"V5_R\"]),\n",
    "                             ([\"vis\", \"aud\"], [\"PT_L\", \"PT_R\"])]"
   ]
  },
  {
   "cell_type": "markdown",
   "metadata": {},
   "source": [
    "# Analyses"
   ]
  },
  {
   "cell_type": "code",
   "execution_count": 2,
   "outputs": [],
   "source": [
    "maps_masked, masks_exist = load_full_data(subjects_ids, length_one_modality, maps_folder, masks_folder, is_from_mohamed=(from_who==\"mohameds\"))\n",
    "\n",
    "C_values = 10**np.linspace(-10,10,num=1000)\n",
    "kernels = [\"linear\",\"rbf\"]"
   ],
   "metadata": {
    "collapsed": false,
    "pycharm": {
     "name": "#%%\n"
    }
   }
  },
  {
   "cell_type": "code",
   "execution_count": null,
   "metadata": {
    "collapsed": false,
    "pycharm": {
     "name": "#%%\n",
     "is_executing": true
    }
   },
   "outputs": [],
   "source": [
    "acc_group_within_combination = {\"linear\":np.zeros(len(C_values)),\"rbf\":np.zeros(len(C_values))}\n",
    "acc_group_cross_combination = {\"linear\":np.zeros(len(C_values)),\"rbf\":np.zeros(len(C_values))}\n",
    "\n",
    "start_time = time.time()\n",
    "for i,C in enumerate(C_values) :\n",
    "    for kernel in kernels :\n",
    "        scaler = sklearn.preprocessing.StandardScaler()\n",
    "        classifier = sklearn.svm.SVC(C = C, kernel = kernel, random_state=SEED)  # other parameters are default parameters\n",
    "        pipeline = Pipeline([('std_scaler', scaler), ('svm', classifier)])\n",
    "        decoder = Decoder(n_perm=n_individual_perms, model=pipeline, n_classes=len(classes), n_splits=nb_runs, seed=SEED)\n",
    "        decoder.set_masks_exist(masks_exist)\n",
    "\n",
    "        confusion_matrixes_within = decoder.within_modality_decoding(maps_masked, labels, subjects_ids, within_modal_tasks_regions)\n",
    "        group_confusion_matrixes_within = average_dicos(confusion_matrixes_within)\n",
    "\n",
    "        confusion_matrixes_cross = decoder.cross_modality_decoding(maps_masked, labels, subjects_ids, cross_modal_tasks_regions)\n",
    "        group_confusion_matrixes_cross = average_dicos(confusion_matrixes_cross)\n",
    "\n",
    "        # saving results\n",
    "        params = classifier.get_params()\n",
    "        out_directory = \"out/\"+from_who+\"_\"+\"_\".join(k+\"=\"+str(params[k]) for k in ['C', 'kernel'])+\"/\"\n",
    "        create_directory(out_directory)\n",
    "\n",
    "        save_dicts(out_directory + \"confusion_matrixes_within.csv\", confusion_matrixes_within,\n",
    "                   list(confusion_matrixes_within[0].keys()), subjects_ids)\n",
    "        acc_within = compute_metric(out_directory, subjects_ids, {'name': 'accuracy', 'function': accuracy}, \"within\", masks_exist, ret=True)\n",
    "\n",
    "        save_dicts(out_directory + \"confusion_matrixes_cross.csv\", confusion_matrixes_cross,\n",
    "                   list(confusion_matrixes_cross[0].keys()), subjects_ids)\n",
    "        acc_cross = compute_metric(out_directory, subjects_ids, {'name': 'accuracy', 'function': accuracy}, \"cross\", masks_exist, ret=True)\n",
    "\n",
    "        within_modality_group_results = average_dicos(acc_within)\n",
    "        save_dicts(out_directory + \"group_scores_within.csv\", [within_modality_group_results],\n",
    "                   list(within_modality_group_results.keys()), [0])\n",
    "        acc_group_within_combination[kernel][i] = within_modality_group_results\n",
    "\n",
    "        cross_modality_group_results = average_dicos(acc_cross)\n",
    "        save_dicts(out_directory + \"group_scores_cross.csv\", [cross_modality_group_results],\n",
    "                   list(cross_modality_group_results.keys()), [0])\n",
    "        acc_group_cross_combination[kernel][i] = cross_modality_group_results\n",
    "\n",
    "        if i%10 == 0 :\n",
    "            duration = time.time()-start_time\n",
    "            print(i+\"/\"+str(len(C_values)*2)+\"iterations done in \"+str(duration)+\" seconds\")"
   ]
  },
  {
   "cell_type": "markdown",
   "source": [
    "# Plot scores depending on parameters"
   ],
   "metadata": {
    "collapsed": false
   }
  },
  {
   "cell_type": "code",
   "execution_count": null,
   "outputs": [],
   "source": [
    "for analysis in acc_group_within_combination[0][\"linear\"]:\n",
    "    # faire le plot\n",
    "    linear_scores = [score for score in acc_group_within_combination[\"linear\"]]\n",
    "    rbf_scores = [score for score in acc_group_within_combination[\"rbf\"]]\n",
    "    plt.plot(C_values,linear_scores,label=\"linear\")\n",
    "    plt.plot(C_values,rbf_scores,label=\"gaussian\")\n",
    "    plt_directory = \"plots/\"+from_who+\"_\"+\"_\".join(k+\"=\"+str(params[k]) for k in ['C', 'kernel'])+\"/\"\n",
    "    create_directory(plt_directory)\n",
    "    plotter = Plotter(plt_directory, subjects_ids)\n",
    "    plotter.save(analysis+\" - accuracy depending on C and kernel of SVM\",\"tunnig_parameters\",\"mean accuracy\",\"C\",legend=True)"
   ],
   "metadata": {
    "collapsed": false,
    "pycharm": {
     "name": "#%%\n"
    }
   }
  }
 ],
 "metadata": {
  "interpreter": {
   "hash": "2db524e06e9f5f4ffedc911c917cb75e12dbc923643829bf417064a77eb14d37"
  },
  "kernelspec": {
   "display_name": "Python 3.8.6 64-bit",
   "language": "python",
   "name": "python3"
  },
  "language_info": {
   "codemirror_mode": {
    "name": "ipython",
    "version": 3
   },
   "file_extension": ".py",
   "mimetype": "text/x-python",
   "name": "python",
   "nbconvert_exporter": "python",
   "pygments_lexer": "ipython3",
   "version": "3.8.6"
  },
  "orig_nbformat": 4
 },
 "nbformat": 4,
 "nbformat_minor": 2
}