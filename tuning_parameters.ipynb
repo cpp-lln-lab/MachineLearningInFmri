{
 "cells": [
  {
   "cell_type": "markdown",
   "metadata": {},
   "source": [
    "# Imports and Constants"
   ]
  },
  {
   "cell_type": "code",
   "execution_count": null,
   "metadata": {
    "pycharm": {
     "is_executing": true
    }
   },
   "outputs": [],
   "source": [
    "import matplotlib.pyplot as plt\n",
    "import numpy as np\n",
    "import pandas as pd\n",
    "import sklearn\n",
    "from sklearn.pipeline import Pipeline\n",
    "import random\n",
    "import os\n",
    "from math import log10\n",
    "\n",
    "from savingOutputs import *\n",
    "from loadData import *\n",
    "from masks import *\n",
    "from decoding import *\n",
    "from plots import *\n",
    "from utility import *\n",
    "from metrics import *\n",
    "\n",
    "\n",
    "from_who = \"our\"   # 2 possibilities : \"mohameds\" or \"our\"\n",
    "maps_folder=\"brain_maps/\"+from_who+\"_maps\"\n",
    "masks_folder=\"masks/\"+from_who+\"_masks\"\n",
    "\n",
    "SEED = 0\n",
    "random.seed(SEED)\n",
    "classes = ['Up', 'Down', 'Right', 'Left']\n",
    "nb_runs = 12\n",
    "length_one_modality = nb_runs * len(classes)\n",
    "subjects_ids = range(1, 24)\n",
    "n_subjects = len(subjects_ids)\n",
    "n_individual_perms = 1000\n",
    "class_labels = [\"\"] * (2 * length_one_modality)\n",
    "for i in range(length_one_modality * 2):\n",
    "    class_labels[i] = classes[(i // nb_runs) % len(classes)]\n",
    "labels = dict()\n",
    "labels[\"vis\"] = np.array(class_labels[:length_one_modality])\n",
    "labels[\"aud\"] = np.array(class_labels[length_one_modality:])\n",
    "labels_same = labels[\"vis\"]\n",
    "\n",
    "within_modal_tasks_regions = [([\"vis\"], [\"V5_L\", \"V5_R\"]),\n",
    "                              ([\"vis\"], [\"PT_L\", \"PT_R\"]),\n",
    "                              ([\"aud\"], [\"V5_L\", \"V5_R\"]),\n",
    "                              ([\"aud\"], [\"PT_L\", \"PT_R\"])]\n",
    "\n",
    "cross_modal_tasks_regions = [([\"vis\", \"aud\"], [\"V5_L\", \"V5_R\"]),\n",
    "                             ([\"vis\", \"aud\"], [\"PT_L\", \"PT_R\"])]"
   ]
  },
  {
   "cell_type": "markdown",
   "metadata": {},
   "source": [
    "# Analyses"
   ]
  },
  {
   "cell_type": "code",
   "execution_count": 2,
   "outputs": [],
   "source": [
    "maps_masked, masks_exist = load_full_data(subjects_ids, length_one_modality, maps_folder, masks_folder, is_from_mohamed=(from_who==\"mohameds\"))\n",
    "\n",
    "C_log_values = np.linspace(-5,5,num=100)\n",
    "C_values = 10**C_log_values\n",
    "kernels = [\"linear\",\"rbf\"]"
   ],
   "metadata": {
    "collapsed": false,
    "pycharm": {
     "name": "#%%\n"
    }
   }
  },
  {
   "cell_type": "code",
   "execution_count": 3,
   "metadata": {
    "collapsed": false,
    "pycharm": {
     "name": "#%%\n"
    }
   },
   "outputs": [
    {
     "name": "stdout",
     "output_type": "stream",
     "text": [
      "0/200 iterations done in 15.659912109375 seconds\n",
      "10/200 iterations done in 174.44851303100586 seconds\n",
      "20/200 iterations done in 328.27750611305237 seconds\n",
      "30/200 iterations done in 484.59473395347595 seconds\n",
      "40/200 iterations done in 643.8402082920074 seconds\n",
      "50/200 iterations done in 802.0616638660431 seconds\n",
      "60/200 iterations done in 962.0604441165924 seconds\n",
      "70/200 iterations done in 1120.5293879508972 seconds\n",
      "80/200 iterations done in 1280.866738319397 seconds\n",
      "90/200 iterations done in 1438.0877628326416 seconds\n"
     ]
    }
   ],
   "source": [
    "acc_group_within_combination = {\"linear\":[None]*len(C_values),\"rbf\":[None]*len(C_values)}\n",
    "acc_group_cross_combination = {\"linear\":[None]*len(C_values),\"rbf\":[None]*len(C_values)}\n",
    "\n",
    "start_time = time.time()\n",
    "for i,C in enumerate(C_values) :\n",
    "    for kernel in kernels :\n",
    "        scaler = sklearn.preprocessing.StandardScaler()\n",
    "        classifier = sklearn.svm.SVC(C = C, kernel = kernel, random_state=SEED)  # other parameters are default parameters\n",
    "        pipeline = Pipeline([('std_scaler', scaler), ('svm', classifier)])\n",
    "        decoder = Decoder(n_perm=n_individual_perms, model=pipeline, n_classes=len(classes), n_splits=nb_runs, seed=SEED)\n",
    "        decoder.set_masks_exist(masks_exist)\n",
    "\n",
    "        confusion_matrixes_within = decoder.within_modality_decoding(maps_masked, labels, subjects_ids, within_modal_tasks_regions)\n",
    "        group_confusion_matrixes_within = average_dicos(confusion_matrixes_within)\n",
    "\n",
    "        confusion_matrixes_cross = decoder.cross_modality_decoding(maps_masked, labels, subjects_ids, cross_modal_tasks_regions)\n",
    "        group_confusion_matrixes_cross = average_dicos(confusion_matrixes_cross)\n",
    "\n",
    "        # saving results\n",
    "        params = classifier.get_params()\n",
    "        out_directory = \"out/\"+from_who+\"_\"+\"_\".join(k+\"=\"+str(params[k]) for k in ['C', 'kernel'])+\"/\"\n",
    "        create_directory(out_directory)\n",
    "\n",
    "        save_dicts(out_directory + \"confusion_matrixes_within.csv\", confusion_matrixes_within,\n",
    "                   list(confusion_matrixes_within[0].keys()), subjects_ids)\n",
    "        acc_within = compute_metric(out_directory, subjects_ids, {'name': 'accuracy', 'function': accuracy}, \"within\", masks_exist, ret=True)\n",
    "\n",
    "        save_dicts(out_directory + \"confusion_matrixes_cross.csv\", confusion_matrixes_cross,\n",
    "                   list(confusion_matrixes_cross[0].keys()), subjects_ids)\n",
    "        acc_cross = compute_metric(out_directory, subjects_ids, {'name': 'accuracy', 'function': accuracy}, \"cross\", masks_exist, ret=True)\n",
    "\n",
    "        within_modality_group_results = average_dicos(acc_within)\n",
    "        save_dicts(out_directory + \"group_scores_within.csv\", [within_modality_group_results],\n",
    "                   list(within_modality_group_results.keys()), [0])\n",
    "        acc_group_within_combination[kernel][i] = within_modality_group_results\n",
    "\n",
    "        cross_modality_group_results = average_dicos(acc_cross)\n",
    "        save_dicts(out_directory + \"group_scores_cross.csv\", [cross_modality_group_results],\n",
    "                   list(cross_modality_group_results.keys()), [0])\n",
    "        acc_group_cross_combination[kernel][i] = cross_modality_group_results\n",
    "\n",
    "        if (i+1)%10 == 0 :\n",
    "            duration = time.time()-start_time\n",
    "            print(str(i)+\"/\"+str(len(C_values)*len(kernels))+\" iterations done in \"+str(duration)+\" seconds\")"
   ]
  },
  {
   "cell_type": "markdown",
   "source": [
    "# Plot scores depending on parameters"
   ],
   "metadata": {
    "collapsed": false
   }
  },
  {
   "cell_type": "code",
   "execution_count": 8,
   "outputs": [],
   "source": [
    "for analysis in acc_group_within_combination[\"linear\"][0]:\n",
    "    # faire le plot\n",
    "    linear_scores = [score[analysis] for score in acc_group_within_combination[\"linear\"]]\n",
    "    rbf_scores = [score[analysis] for score in acc_group_within_combination[\"rbf\"]]\n",
    "    plt.plot(C_log_values,linear_scores,label=\"linear\")\n",
    "    plt.plot(C_log_values,rbf_scores,label=\"gaussian\")\n",
    "    plt_directory = \"plots/\"+from_who+\"_\"+\"tuning_parameters/\"\n",
    "    create_directory(plt_directory)\n",
    "    plotter = Plotter(plt_directory, subjects_ids)\n",
    "    plotter.save(analysis+\" - accuracy depending on C and kernel of SVM\",\"\",\"mean accuracy\",\"log10(C)\",legend=True)\n",
    "\n",
    "for analysis in acc_group_cross_combination[\"linear\"][0]:\n",
    "    # faire le plot\n",
    "    linear_scores = [score[analysis] for score in acc_group_cross_combination[\"linear\"]]\n",
    "    rbf_scores = [score[analysis] for score in acc_group_cross_combination[\"rbf\"]]\n",
    "    plt.plot(C_log_values,linear_scores,label=\"linear\")\n",
    "    plt.plot(C_log_values,rbf_scores,label=\"gaussian\")\n",
    "    plt_directory = \"plots/\"+from_who+\"_\"+\"tuning_parameters/\"\n",
    "    create_directory(plt_directory)\n",
    "    plotter = Plotter(plt_directory, subjects_ids)\n",
    "    plotter.save(analysis+\" - accuracy depending on C and kernel of SVM\",\"\",\"mean accuracy\",\"log10(C)\",legend=True)"
   ],
   "metadata": {
    "collapsed": false,
    "pycharm": {
     "name": "#%%\n"
    }
   }
  }
 ],
 "metadata": {
  "interpreter": {
   "hash": "2db524e06e9f5f4ffedc911c917cb75e12dbc923643829bf417064a77eb14d37"
  },
  "kernelspec": {
   "display_name": "Python 3.8.6 64-bit",
   "language": "python",
   "name": "python3"
  },
  "language_info": {
   "codemirror_mode": {
    "name": "ipython",
    "version": 3
   },
   "file_extension": ".py",
   "mimetype": "text/x-python",
   "name": "python",
   "nbconvert_exporter": "python",
   "pygments_lexer": "ipython3",
   "version": "3.8.6"
  },
  "orig_nbformat": 4
 },
 "nbformat": 4,
 "nbformat_minor": 2
}